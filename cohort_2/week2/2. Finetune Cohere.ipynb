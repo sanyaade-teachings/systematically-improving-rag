{
 "cells": [
  {
   "cell_type": "code",
   "execution_count": 2,
   "metadata": {},
   "outputs": [],
   "source": [
    "%load_ext autoreload\n",
    "%autoreload 2"
   ]
  },
  {
   "cell_type": "markdown",
   "metadata": {},
   "source": [
    "# Week 2: Getting Started with Re-ranker Fine-tuning\n",
    "\n",
    "> **Prerequisites**: Complete the `1. Synthetic Transactions.ipynb` notebook first to generate the evaluation dataset we'll use for fine-tuning. You'll also need a Cohere API Key which you can get by signing up for a free account on [Cohere](https://cohere.com/).\n",
    "\n",
    "When improving RAG systems, starting with a managed re-ranker service can provide quick wins with minimal engineering overhead. This notebook demonstrates how to fine-tune a Cohere re-ranker for better retrieval performance using just a few hundred examples.\n",
    "\n",
    "## Why This Matters\n",
    "\n",
    "Re-rankers offer several advantages when you're just getting started:\n",
    "\n",
    "1. **Data Efficiency**\n",
    "   - Work effectively with limited data (as few as 256 examples)\n",
    "   - Only need to learn ranking within small candidate sets  \n",
    "   - Can achieve significant gains without massive training sets\n",
    "\n",
    "2. **Easy Integration** \n",
    "   - Drop-in addition to existing retrieval pipelines\n",
    "   - Progressive improvement without system overhauls\n",
    "   - No need to re-embed your entire document collection\n",
    "\n",
    "3. **Quick Implementation**\n",
    "   - Hosted services handle infrastructure complexity\n",
    "   - No hyperparameter tuning required  \n",
    "   - Focus on experimentation rather than deployment\n",
    "\n",
    "## What You'll Learn\n",
    "\n",
    "Through hands-on examples, you'll discover how to:\n",
    "\n",
    "1. **Prepare Training Data**\n",
    "   - Format data for re-ranker fine-tuning\n",
    "   - Create effective training examples\n",
    "   - Generate hard negatives\n",
    "\n",
    "2. **Fine-tune Models**\n",
    "   - Configure training parameters\n",
    "   - Monitor training progress\n",
    "   - Validate model improvements\n",
    "\n",
    "3. **Evaluate Performance**\n",
    "   - Compare against baseline retrieval\n",
    "   - Measure recall and MRR improvements\n",
    "   - Analyze result quality\n",
    "\n",
    "By the end of this notebook, you'll have a fine-tuned re-ranker improving your retrieval results. This builds on Week 1's evaluation framework while preparing you for more advanced fine-tuning using open-source models in notebook 3.\n",
    "\n",
    "## Preparing Our Training Data\n",
    "\n",
    "In this notebook, we'll be using the synthetic transactions dataset we created in the previous notebook to fine-tune a Cohere re-ranker. [Cohere will use the most recent base model for fine-tuning](https://docs.cohere.com/v2/docs/rerank-starting-the-training#parameters) so do check their website to see which model version is the latest one that they've released.\n",
    "\n",
    "We'll then create hard negatives so that our re-ranker learns the difference between similar categories.\n",
    "\n",
    "### Hard Negatives\n",
    "\n",
    "A key aspect of effective re-ranker training is the selection of hard negatives - examples that are similar to the correct answer but shouldn't be ranked highly. For instance:\n",
    "\n",
    "Query:\n",
    "```\n",
    "Name: Ayden\n",
    "Category: Financial Software\n",
    "Department: Finance\n",
    "Location: Berlin, DE\n",
    "Amount: 1273.45\n",
    "```\n",
    "\n",
    "Positive Example:\n",
    "```\n",
    "Subscription & Revenue Infrastructure\n",
    "```\n",
    "\n",
    "Hard Negatives:\n",
    "```\n",
    "Office Equipment Maintenance\n",
    "Office Supplies & Stationery\n",
    "Human Resources\n",
    "```\n",
    "\n",
    "Hard negatives help your model by:\n",
    "1. Improving discriminative ability between similar categories\n",
    "2. Building robustness against noisy results\n",
    "3. Making efficient use of limited training data\n"
   ]
  },
  {
   "cell_type": "markdown",
   "metadata": {},
   "source": [
    "### Creating Our Dataset\n",
    "\n",
    "In this section, we'll use the examples that we previously stored in Braintrust to create a dataset to train our re-ranker. We'll use the `train` examples to train our re-ranker and the `eval` examples to benchmark our model. Once we've formatted our data in the correct format, we'll save it to a file and upload it to Cohere."
   ]
  },
  {
   "cell_type": "code",
   "execution_count": 2,
   "metadata": {},
   "outputs": [],
   "source": [
    "from helpers import get_dataset_split\n",
    "\n",
    "\n",
    "train_data = get_dataset_split(\"./data/train_transactions.jsonl\")\n",
    "eval_data = get_dataset_split(\"./data/eval_transactions.jsonl\")"
   ]
  },
  {
   "cell_type": "code",
   "execution_count": 3,
   "metadata": {},
   "outputs": [],
   "source": [
    "from pydantic import BaseModel\n",
    "\n",
    "\n",
    "# Define Pydantic model to store our finetuning data\n",
    "class FinetuneItem(BaseModel):\n",
    "    query: str\n",
    "    relevant_passages: list[str]\n",
    "    hard_negatives: list[str]\n",
    "\n",
    "\n",
    "# Get all the labels in our dataset\n",
    "labels = set([transaction[\"expected\"][0] for transaction in train_data])"
   ]
  },
  {
   "cell_type": "code",
   "execution_count": 8,
   "metadata": {},
   "outputs": [],
   "source": [
    "import random\n",
    "\n",
    "finetuning_data = [\n",
    "    FinetuneItem(\n",
    "        query=transaction[\"input\"],\n",
    "        relevant_passages=[transaction[\"expected\"][0]],\n",
    "        hard_negatives=random.sample(\n",
    "            [label for label in labels if label != transaction[\"expected\"][0]], k=4\n",
    "        ),\n",
    "    )\n",
    "    for transaction in train_data\n",
    "    # Generate 2 samples with 4 hard negatives each for each transaction\n",
    "    for _ in range(2)\n",
    "]\n",
    "\n",
    "with open(\"./data/cohere_finetune.jsonl\", \"w\") as f:\n",
    "    for item in finetuning_data:\n",
    "        f.write(item.model_dump_json() + \"\\n\")"
   ]
  },
  {
   "cell_type": "markdown",
   "metadata": {},
   "source": [
    "## Finetuning Our Model\n",
    "\n",
    "Now that we've created our dataset, we can upload it to Cohere and kick off our fine-tuning job. \n",
    "\n",
    "### Uploading Our Dataset\n",
    "\n",
    "A reminder that the fine-tuning itself will take around 1 hour to a day so you'll need to come back to this notebook later down the line when this is done.\n",
    "\n",
    "Once the dataset has a status `validated`, we can kick off our fine-tuning job."
   ]
  },
  {
   "cell_type": "code",
   "execution_count": 9,
   "metadata": {},
   "outputs": [
    {
     "name": "stdout",
     "output_type": "stream",
     "text": [
      "...\n",
      "...\n",
      "...\n"
     ]
    },
    {
     "data": {
      "text/plain": [
       "'validated'"
      ]
     },
     "execution_count": 6,
     "metadata": {},
     "output_type": "execute_result"
    }
   ],
   "source": [
    "import cohere\n",
    "\n",
    "co = cohere.ClientV2()\n",
    "\n",
    "reranked_dataset = co.datasets.create(\n",
    "    name=\"Synthetic Transactions Finetune\",\n",
    "    data=open(\"./data/cohere_finetune.jsonl\", \"rb\"),\n",
    "    type=\"reranker-finetune-input\",\n",
    ")\n",
    "\n",
    "co.wait(reranked_dataset).dataset.validation_status\n"
   ]
  },
  {
   "cell_type": "markdown",
   "metadata": {},
   "source": [
    "### Submitting Our Finetuning Job\n",
    "\n",
    "Now that we've uploaded our dataset, we can kick off our fine-tuning job. Make sure to indicate that you're doing a re-ranker finetune when creating the job. You can check the status of your job at any time by calling `co.finetuning.get_finetuned_model` or visiting the Cohere dashboard."
   ]
  },
  {
   "cell_type": "code",
   "execution_count": 25,
   "metadata": {},
   "outputs": [],
   "source": [
    "from cohere.finetuning import BaseModel, FinetunedModel, Settings\n",
    "\n",
    "finetune_request = co.finetuning.create_finetuned_model(\n",
    "    request=FinetunedModel(\n",
    "        name=\"finetuned-cohere-reranker\",\n",
    "        settings=Settings(\n",
    "            base_model=BaseModel(base_type=\"BASE_TYPE_RERANK\"),\n",
    "            dataset_id=reranked_dataset.id,\n",
    "        ),\n",
    "    )\n",
    ")"
   ]
  },
  {
   "cell_type": "code",
   "execution_count": 29,
   "metadata": {},
   "outputs": [
    {
     "data": {
      "text/plain": [
       "'STATUS_READY'"
      ]
     },
     "execution_count": 29,
     "metadata": {},
     "output_type": "execute_result"
    }
   ],
   "source": [
    "response = co.finetuning.get_finetuned_model(finetune_request.finetuned_model.id)\n",
    "response.finetuned_model.status"
   ]
  },
  {
   "cell_type": "markdown",
   "metadata": {},
   "source": [
    "## Benchmarking our Model\n",
    "\n",
    "We want to quantify the improvement that fine-tuning a model gets us. In order to do so, we'll be using the same retrieval evals as before to benchmark our fine-tuned model. Since we're building a model here that will suggest relevant categories for a given transaction, we'll be measuring the following two metrics.    \n",
    "\n",
    "- Recall : Whether the correct category is in the top N results\n",
    "- MRR : The mean reciprocal rank of the correct category in the top N results\n",
    "\n",
    "We want to mainly measure two things\n",
    "\n",
    "- How much of an improvement does a fine-tuned model get us over a pure embedding based approach\n",
    "- How does the fine-tuned model perform against the default Cohere re-ranker\n",
    "\n",
    "In order to do so, we'll be benchmarking our fine-tuned model against the default text-embedding-3-small model as well as the default Cohere re-ranker. We'll use `braintrust` here to run our evaluations and compare the results between our different configurations since it's where we've stored our evaluation data and provides an easy way to share our results with others.\n",
    "\n"
   ]
  },
  {
   "cell_type": "code",
   "execution_count": 5,
   "metadata": {},
   "outputs": [],
   "source": [
    "import lancedb\n",
    "\n",
    "db = lancedb.connect(\"./lancedb\")\n",
    "table = db.open_table(\"categories\")"
   ]
  },
  {
   "cell_type": "code",
   "execution_count": 11,
   "metadata": {},
   "outputs": [
    {
     "name": "stderr",
     "output_type": "stream",
     "text": [
      "Experiment remove-braintrust-1739784768 is running at https://www.braintrust.dev/app/567/p/fine-tuning/experiments/remove-braintrust-1739784768\n",
      "fine-tuning (data): 66it [00:00, 47860.32it/s]\n"
     ]
    },
    {
     "data": {
      "application/vnd.jupyter.widget-view+json": {
       "model_id": "83aafae7f0304f3698764272fd5c3afc",
       "version_major": 2,
       "version_minor": 0
      },
      "text/plain": [
       "fine-tuning (tasks):   0%|          | 0/66 [00:00<?, ?it/s]"
      ]
     },
     "metadata": {},
     "output_type": "display_data"
    },
    {
     "name": "stdout",
     "output_type": "stream",
     "text": [
      "\n",
      "=========================SUMMARY=========================\n",
      "remove-braintrust-1739784768 compared to synthetic-transactions-train-categories-ivanleomk-finetuned-bge-base-en-test:\n",
      "83.33% (+25.76%) 'mrr@1'    score\t(19 improvements, 2 regressions)\n",
      "88.38% (+17.17%) 'mrr@3'    score\t(21 improvements, 4 regressions)\n",
      "89.29% (+16.72%) 'mrr@5'    score\t(22 improvements, 5 regressions)\n",
      "83.33% (+25.76%) 'recall@1' score\t(19 improvements, 2 regressions)\n",
      "93.94% (+07.58%) 'recall@3' score\t(6 improvements, 1 regressions)\n",
      "98.48% (+06.06%) 'recall@5' score\t(4 improvements, 0 regressions)\n",
      "\n",
      "1739784768.64s start\n",
      "1739784771.26s end\n",
      "1.93s (+61.04%) 'duration'\t(26 improvements, 40 regressions)\n",
      "\n",
      "See results for remove-braintrust-1739784768 at https://www.braintrust.dev/app/567/p/fine-tuning/experiments/remove-braintrust-1739784768\n"
     ]
    },
    {
     "name": "stderr",
     "output_type": "stream",
     "text": [
      "Experiment remove-braintrust-1739784800 is running at https://www.braintrust.dev/app/567/p/fine-tuning/experiments/remove-braintrust-1739784800\n",
      "fine-tuning (data): 66it [00:00, 52250.67it/s]\n"
     ]
    },
    {
     "data": {
      "application/vnd.jupyter.widget-view+json": {
       "model_id": "c700cc4fa3944ed88bba8f49152390cd",
       "version_major": 2,
       "version_minor": 0
      },
      "text/plain": [
       "fine-tuning (tasks):   0%|          | 0/66 [00:00<?, ?it/s]"
      ]
     },
     "metadata": {},
     "output_type": "display_data"
    },
    {
     "name": "stdout",
     "output_type": "stream",
     "text": [
      "\n",
      "=========================SUMMARY=========================\n",
      "remove-braintrust-1739784800 compared to synthetic-transactions-train-categories-ivanleomk-finetuned-bge-base-en-test:\n",
      "24.24% (-33.33%) 'mrr@1'    score\t(1 improvements, 23 regressions)\n",
      "28.79% (-42.42%) 'mrr@3'    score\t(1 improvements, 41 regressions)\n",
      "30.15% (-42.42%) 'mrr@5'    score\t(1 improvements, 45 regressions)\n",
      "24.24% (-33.33%) 'recall@1' score\t(1 improvements, 23 regressions)\n",
      "34.85% (-51.52%) 'recall@3' score\t(0 improvements, 34 regressions)\n",
      "40.91% (-51.52%) 'recall@5' score\t(0 improvements, 34 regressions)\n",
      "\n",
      "1739784800.43s start\n",
      "1739784803.74s end\n",
      "2.37s (+105.18%) 'duration'\t(21 improvements, 45 regressions)\n",
      "\n",
      "See results for remove-braintrust-1739784800 at https://www.braintrust.dev/app/567/p/fine-tuning/experiments/remove-braintrust-1739784800\n"
     ]
    },
    {
     "name": "stderr",
     "output_type": "stream",
     "text": [
      "Experiment remove-braintrust-1739784832 is running at https://www.braintrust.dev/app/567/p/fine-tuning/experiments/remove-braintrust-1739784832\n",
      "fine-tuning (data): 66it [00:00, 48001.40it/s]\n"
     ]
    },
    {
     "data": {
      "application/vnd.jupyter.widget-view+json": {
       "model_id": "0ab5b217d5b94484948933d7067ebd16",
       "version_major": 2,
       "version_minor": 0
      },
      "text/plain": [
       "fine-tuning (tasks):   0%|          | 0/66 [00:00<?, ?it/s]"
      ]
     },
     "metadata": {},
     "output_type": "display_data"
    },
    {
     "name": "stdout",
     "output_type": "stream",
     "text": [
      "\n",
      "=========================SUMMARY=========================\n",
      "remove-braintrust-1739784832 compared to synthetic-transactions-train-categories-ivanleomk-finetuned-bge-base-en-test:\n",
      "39.39% (-18.18%) 'mrr@1'    score\t(7 improvements, 19 regressions)\n",
      "51.77% (-19.44%) 'mrr@3'    score\t(9 improvements, 28 regressions)\n",
      "54.19% (-18.38%) 'mrr@5'    score\t(10 improvements, 31 regressions)\n",
      "39.39% (-18.18%) 'recall@1' score\t(7 improvements, 19 regressions)\n",
      "66.67% (-19.70%) 'recall@3' score\t(2 improvements, 15 regressions)\n",
      "77.27% (-15.15%) 'recall@5' score\t(2 improvements, 12 regressions)\n",
      "\n",
      "1739784832.36s start\n",
      "1739784833.76s end\n",
      "0.91s (-40.73%) 'duration'\t(62 improvements, 4 regressions)\n",
      "\n",
      "See results for remove-braintrust-1739784832 at https://www.braintrust.dev/app/567/p/fine-tuning/experiments/remove-braintrust-1739784832\n"
     ]
    }
   ],
   "source": [
    "from braintrust import EvalAsync, Score\n",
    "from lancedb.rerankers import CohereReranker\n",
    "from helpers import get_metrics_at_k, task\n",
    "\n",
    "\n",
    "def evaluate_braintrust(input, output, **kwargs):\n",
    "    metrics = get_metrics_at_k(metrics=[\"mrr\", \"recall\"], sizes=[1, 3, 5])\n",
    "    return [\n",
    "        Score(\n",
    "            name=metric,\n",
    "            score=score_fn(output, kwargs[\"expected\"]),\n",
    "            metadata={\"query\": input, \"result\": output, **kwargs[\"metadata\"]},\n",
    "        )\n",
    "        for metric, score_fn in metrics.items()\n",
    "    ]\n",
    "\n",
    "rerankers = [\n",
    "    # Remember to replace this with your fine-tuned model id\n",
    "    CohereReranker(model_name=\"0486d248-8476-40f6-a5bf-1ef6fd8a65dd-ft\"),\n",
    "    CohereReranker(model_name=\"rerank-english-v3.0\"),\n",
    "    None,\n",
    "]\n",
    "\n",
    "results = []\n",
    "\n",
    "for reranker in rerankers:\n",
    "    results.append(\n",
    "        await EvalAsync(\n",
    "            \"fine-tuning\",  # Replace with your project name\n",
    "            data=eval_data, # We're using the eval data here to do the benchmarking\n",
    "            task=lambda query: task(user_query=query, table=table, reranker=reranker, max_k=25),  # Replace with your LLM call\n",
    "            scores=[evaluate_braintrust],\n",
    "        )\n",
    "    )"
   ]
  },
  {
   "cell_type": "code",
   "execution_count": 7,
   "metadata": {},
   "outputs": [
    {
     "name": "stdout",
     "output_type": "stream",
     "text": [
      "mrr@1       0.8333\n",
      "mrr@3       0.8838\n",
      "mrr@5       0.8929\n",
      "recall@1    0.8333\n",
      "recall@3    0.9394\n",
      "recall@5    0.9848\n",
      "dtype: float64\n",
      "mrr@1       0.2424\n",
      "mrr@3       0.2879\n",
      "mrr@5       0.3015\n",
      "recall@1    0.2424\n",
      "recall@3    0.3485\n",
      "recall@5    0.4091\n",
      "dtype: float64\n",
      "mrr@1       0.3939\n",
      "mrr@3       0.5177\n",
      "mrr@5       0.5419\n",
      "recall@1    0.3939\n",
      "recall@3    0.6667\n",
      "recall@5    0.7727\n",
      "dtype: float64\n"
     ]
    }
   ],
   "source": [
    "from concurrent.futures import ThreadPoolExecutor\n",
    "from helpers import task, get_metrics_at_k\n",
    "import pandas as pd\n",
    "\n",
    "metrics = get_metrics_at_k(metrics=[\"mrr\", \"recall\"], sizes=[1, 3, 5])\n",
    "\n",
    "\n",
    "def evaluate_query(output, expense_category):\n",
    "    scores = {}\n",
    "    for metric, score_fn in metrics.items():\n",
    "        scores[metric] = score_fn(output, expense_category)\n",
    "\n",
    "    return scores\n",
    "\n",
    "rerankers = [\n",
    "    # Remember to replace this with your fine-tuned model id\n",
    "    [\"fine-tuned\", CohereReranker(model_name=\"0486d248-8476-40f6-a5bf-1ef6fd8a65dd-ft\")],\n",
    "    [\"default\", CohereReranker(model_name=\"rerank-english-v3.0\")],\n",
    "    [\"no-reranker\", None],\n",
    "]\n",
    "\n",
    "results = {}\n",
    "\n",
    "with ThreadPoolExecutor(max_workers=10) as executor:\n",
    "    for reranker_name, reranker in rerankers:\n",
    "        query_results = list(\n",
    "            executor.map(\n",
    "                    lambda q: task(\n",
    "                    user_query=q[\"input\"], table=table, reranker=reranker, max_k=25\n",
    "                ),\n",
    "                eval_data,\n",
    "            )\n",
    "        )\n",
    "        scores = [\n",
    "            evaluate_query(output, transaction[\"expected\"])\n",
    "            for output, transaction in zip(query_results, eval_data)\n",
    "        ]\n",
    "        df = pd.DataFrame(scores)\n",
    "        results[reranker_name] = round(pd.DataFrame(scores).mean(), 4)\n",
    "        print(results[reranker_name])"
   ]
  },
  {
   "cell_type": "markdown",
   "metadata": {},
   "source": [
    "### Analysing Our Results\n",
    "\n",
    "Now that we've run our evaluations, let's take a closer look at the results. We want to compare the performance of our fine-tuned model against the default Cohere re-ranker as well as the default vector search baseline without a re-ranker."
   ]
  },
  {
   "cell_type": "code",
   "execution_count": 12,
   "metadata": {},
   "outputs": [
    {
     "data": {
      "text/html": [
       "<div>\n",
       "<style scoped>\n",
       "    .dataframe tbody tr th:only-of-type {\n",
       "        vertical-align: middle;\n",
       "    }\n",
       "\n",
       "    .dataframe tbody tr th {\n",
       "        vertical-align: top;\n",
       "    }\n",
       "\n",
       "    .dataframe thead th {\n",
       "        text-align: right;\n",
       "    }\n",
       "</style>\n",
       "<table border=\"1\" class=\"dataframe\">\n",
       "  <thead>\n",
       "    <tr style=\"text-align: right;\">\n",
       "      <th></th>\n",
       "      <th>mrr@1</th>\n",
       "      <th>mrr@3</th>\n",
       "      <th>mrr@5</th>\n",
       "      <th>recall@1</th>\n",
       "      <th>recall@3</th>\n",
       "      <th>recall@5</th>\n",
       "    </tr>\n",
       "  </thead>\n",
       "  <tbody>\n",
       "    <tr>\n",
       "      <th>Fine-Tuned Reranker</th>\n",
       "      <td>0.83</td>\n",
       "      <td>0.88</td>\n",
       "      <td>0.89</td>\n",
       "      <td>0.83</td>\n",
       "      <td>0.94</td>\n",
       "      <td>0.98</td>\n",
       "    </tr>\n",
       "    <tr>\n",
       "      <th>Default Reranker</th>\n",
       "      <td>0.24</td>\n",
       "      <td>0.29</td>\n",
       "      <td>0.30</td>\n",
       "      <td>0.24</td>\n",
       "      <td>0.35</td>\n",
       "      <td>0.41</td>\n",
       "    </tr>\n",
       "    <tr>\n",
       "      <th>No Reranker</th>\n",
       "      <td>0.39</td>\n",
       "      <td>0.52</td>\n",
       "      <td>0.54</td>\n",
       "      <td>0.39</td>\n",
       "      <td>0.67</td>\n",
       "      <td>0.77</td>\n",
       "    </tr>\n",
       "  </tbody>\n",
       "</table>\n",
       "</div>"
      ],
      "text/plain": [
       "                     mrr@1  mrr@3  mrr@5  recall@1  recall@3  recall@5\n",
       "Fine-Tuned Reranker   0.83   0.88   0.89      0.83      0.94      0.98\n",
       "Default Reranker      0.24   0.29   0.30      0.24      0.35      0.41\n",
       "No Reranker           0.39   0.52   0.54      0.39      0.67      0.77"
      ]
     },
     "execution_count": 12,
     "metadata": {},
     "output_type": "execute_result"
    }
   ],
   "source": [
    "import pandas as pd\n",
    "scores = []\n",
    "\n",
    "for result in results:\n",
    "    result_scores = {}\n",
    "    for score_name, score in result.summary.scores.items():\n",
    "        result_scores[score_name] = score.score\n",
    "    scores.append(result_scores)\n",
    "\n",
    "df = pd.DataFrame(scores,index=[\"Fine-Tuned Reranker\", \"Default Reranker\", \"No Reranker\"])\n",
    "df.round(2)"
   ]
  },
  {
   "cell_type": "code",
   "execution_count": 10,
   "metadata": {},
   "outputs": [
    {
     "data": {
      "text/html": [
       "<div>\n",
       "<style scoped>\n",
       "    .dataframe tbody tr th:only-of-type {\n",
       "        vertical-align: middle;\n",
       "    }\n",
       "\n",
       "    .dataframe tbody tr th {\n",
       "        vertical-align: top;\n",
       "    }\n",
       "\n",
       "    .dataframe thead th {\n",
       "        text-align: right;\n",
       "    }\n",
       "</style>\n",
       "<table border=\"1\" class=\"dataframe\">\n",
       "  <thead>\n",
       "    <tr style=\"text-align: right;\">\n",
       "      <th></th>\n",
       "      <th>mrr@1</th>\n",
       "      <th>mrr@3</th>\n",
       "      <th>mrr@5</th>\n",
       "      <th>recall@1</th>\n",
       "      <th>recall@3</th>\n",
       "      <th>recall@5</th>\n",
       "    </tr>\n",
       "  </thead>\n",
       "  <tbody>\n",
       "    <tr>\n",
       "      <th>Fine-Tuned Reranker</th>\n",
       "      <td>0.83</td>\n",
       "      <td>0.88</td>\n",
       "      <td>0.89</td>\n",
       "      <td>0.83</td>\n",
       "      <td>0.94</td>\n",
       "      <td>0.98</td>\n",
       "    </tr>\n",
       "    <tr>\n",
       "      <th>Default Reranker</th>\n",
       "      <td>0.24</td>\n",
       "      <td>0.29</td>\n",
       "      <td>0.30</td>\n",
       "      <td>0.24</td>\n",
       "      <td>0.35</td>\n",
       "      <td>0.41</td>\n",
       "    </tr>\n",
       "    <tr>\n",
       "      <th>No Reranker</th>\n",
       "      <td>0.39</td>\n",
       "      <td>0.52</td>\n",
       "      <td>0.54</td>\n",
       "      <td>0.39</td>\n",
       "      <td>0.67</td>\n",
       "      <td>0.77</td>\n",
       "    </tr>\n",
       "  </tbody>\n",
       "</table>\n",
       "</div>"
      ],
      "text/plain": [
       "                     mrr@1  mrr@3  mrr@5  recall@1  recall@3  recall@5\n",
       "Fine-Tuned Reranker   0.83   0.88   0.89      0.83      0.94      0.98\n",
       "Default Reranker      0.24   0.29   0.30      0.24      0.35      0.41\n",
       "No Reranker           0.39   0.52   0.54      0.39      0.67      0.77"
      ]
     },
     "execution_count": 10,
     "metadata": {},
     "output_type": "execute_result"
    }
   ],
   "source": [
    "df = pd.DataFrame(results.values(), index=[\"Fine-Tuned Reranker\", \"Default Reranker\", \"No Reranker\"])\n",
    "df.round(2)"
   ]
  },
  {
   "cell_type": "code",
   "execution_count": 12,
   "metadata": {},
   "outputs": [
    {
     "data": {
      "image/png": "[encoded data removed]",
      "text/plain": [
       "<Figure size 1600x500 with 2 Axes>"
      ]
     },
     "metadata": {},
     "output_type": "display_data"
    }
   ],
   "source": [
    "import matplotlib.pyplot as plt\n",
    "import numpy as np\n",
    "\n",
    "# Create figure with two subplots side by side\n",
    "fig, (ax1, ax2) = plt.subplots(1, 2, figsize=(16, 5))\n",
    "\n",
    "# Plot MRR scores\n",
    "mrr_cols = ['mrr@1', 'mrr@3', 'mrr@5']\n",
    "x = np.arange(len(mrr_cols))\n",
    "width = 0.25\n",
    "\n",
    "for i, model in enumerate(df.index):\n",
    "    offset = (i - 1) * width\n",
    "    ax1.bar(x + offset, df.loc[model, mrr_cols], width, label=model)\n",
    "\n",
    "ax1.set_title('Mean Reciprocal Rank (MRR)')\n",
    "ax1.set_xticks(x)\n",
    "ax1.set_xticklabels(mrr_cols)\n",
    "ax1.set_ylabel('Score')\n",
    "ax1.legend()\n",
    "ax1.grid(True, alpha=0.3)\n",
    "\n",
    "# Plot Recall scores\n",
    "recall_cols = ['recall@1', 'recall@3', 'recall@5']\n",
    "x = np.arange(len(recall_cols))\n",
    "\n",
    "for i, model in enumerate(df.index):\n",
    "    offset = (i - 1) * width\n",
    "    ax2.bar(x + offset, df.loc[model, recall_cols], width, label=model)\n",
    "\n",
    "ax2.set_title('Recall')\n",
    "ax2.set_xticks(x)\n",
    "ax2.set_xticklabels(recall_cols)\n",
    "ax2.set_ylabel('Score')\n",
    "ax2.legend()\n",
    "ax2.grid(True, alpha=0.3)\n",
    "\n",
    "plt.tight_layout()\n",
    "plt.show()\n"
   ]
  },
  {
   "cell_type": "markdown",
   "metadata": {},
   "source": [
    "## Conclusion\n",
    "\n",
    "In this notebook, we demonstrated how fine-tuning a Cohere re-ranker can significantly improve retrieval performance. With just 256 synthetic examples, our fine-tuned model showed a 60% increase in recall and a 49% increase in mean reciprocal rank (MRR) compared to the text-embedding-3-small model.\n",
    "\n",
    "This substantial improvement highlights two key considerations for future fine-tuning efforts:\n",
    "\n",
    "1. **Model Selection**: Explore various re-ranker options, including English and multi-lingual models from providers like Cohere and Jina. Experiment to find the best fit for your specific use case.\n",
    "\n",
    "2. **Dataset Quality**: Move beyond simple random negative selection. Consider more sophisticated approaches like using cosine similarity or leveraging language models to identify hard negatives.\n",
    "\n",
    "The fast, objective metrics we established in Week 1 were crucial in our analysis. They allowed us to quickly benchmark our fine-tuned model against both the default Cohere re-ranker and the text-embedding-3-small model. Surprisingly, we discovered that the default Cohere re-ranker actually degraded performance while increasing latency.\n",
    "\n",
    "In Week 4, we'll use similar approaches to discover query patterns with BERTopic, and in Week 5, we'll apply these techniques to structured data and metadata. These are applications where a fine-tuned re-ranker can provide a significant improvement for, especially when at the start when we have a limited amount of user data.As you accumulate more user data, that's when you might want to start looking at fine-tuning an open-source model using the Sentence Transformers library which introduces new challenges such as managing hyper-parameters, loss functions and training loops which we'll explore in the next notebook."
   ]
  }
 ],
 "metadata": {
  "kernelspec": {
   "display_name": ".venv",
   "language": "python",
   "name": "python3"
  },
  "language_info": {
   "codemirror_mode": {
    "name": "ipython",
    "version": 3
   },
   "file_extension": ".py",
   "mimetype": "text/x-python",
   "name": "python",
   "nbconvert_exporter": "python",
   "pygments_lexer": "ipython3",
   "version": "3.9.6"
  }
 },
 "nbformat": 4,
 "nbformat_minor": 2
}
