{
 "cells": [
  {
   "cell_type": "code",
   "execution_count": 1,
   "metadata": {},
   "outputs": [],
   "source": [
    "%load_ext autoreload\n",
    "%autoreload 2"
   ]
  },
  {
   "cell_type": "markdown",
   "metadata": {},
   "source": [
    "If you're running the notebook in colab, make sure that you run the following cell. \n",
    "\n",
    "**There is no need to do so if you're cloning the repository locally**"
   ]
  },
  {
   "cell_type": "code",
   "execution_count": null,
   "metadata": {},
   "outputs": [],
   "source": [
    "!mkdir -p data\n",
    "!curl -L -o ./data/categories.json https://raw.githubusercontent.com/567-labs/systematically-improving-rag/main/cohort_2/week2/data/categories.json\n",
    "!curl -L -o ./data/cleaned.jsonl https://raw.githubusercontent.com/567-labs/systematically-improving-rag/main/cohort_2/week2/data/cleaned.jsonl\n",
    "!curl -L -o ./data/eval_transactions.jsonl https://raw.githubusercontent.com/567-labs/systematically-improving-rag/main/cohort_2/week2/data/eval_transactions.jsonl\n",
    "!curl -L -o ./data/train_transactions.jsonl https://raw.githubusercontent.com/567-labs/systematically-improving-rag/main/cohort_2/week2/data/train_transactions.jsonl\n",
    "!curl -L -o ./helpers.py https://raw.githubusercontent.com/567-labs/systematically-improving-rag/main/cohort_2/week2/helpers.py\n"
   ]
  },
  {
   "cell_type": "code",
   "execution_count": null,
   "metadata": {},
   "outputs": [],
   "source": [
    "from google.colab import userdata\n",
    "import os\n",
    "\n",
    "os.environ[\"HF_TOKEN\"] = userdata.get(\"HF_TOKEN\")\n",
    "os.environ[\"BRAINTRUST_API_KEY\"] = userdata.get(\"BRAINTRUST_API_KEY\")"
   ]
  },
  {
   "cell_type": "code",
   "execution_count": null,
   "metadata": {},
   "outputs": [],
   "source": [
    "!pip install sentence-transformers===3.1.1 transformers==4.45.2 braintrust lancedb datasets\n",
    "!pip uninstall wandb -y"
   ]
  },
  {
   "cell_type": "markdown",
   "metadata": {},
   "source": [
    "# Week 2 : Fine-tuning Open Source Embedding Models\n",
    "\n",
    "> **Prerequisites** : Before running this notebook, make sure that you've completed the previous two notebooks in this week - [1. Synthetic Transactions.ipynb](1. Synthetic Transactions.ipynb) and [2. Finetune Cohere.ipynb](2. Finetune Cohere.ipynb). This notebook will build on top of the previous two notebooks.\n",
    "> \n",
    "> You must have a hugging face token with write access set as an environment variable. If you don't have one, you can create one by following the instructions [here](https://huggingface.co/docs/hub/en/security-tokens).\n",
    "\n",
    "[![Open In Colab](https://colab.research.google.com/assets/colab-badge.svg)](https://colab.research.google.com/github/567-labs/systematically-improving-rag/blob/main/cohort_2/week2/3.%20Open%20Source%20Models.ipynb)\n",
    "\n",
    "\n",
    "After exploring managed services, let's dive into fine-tuning open source embedding models. While this approach requires more setup, it offers greater control and potential cost savings.\n",
    "\n",
    "## Why This Matters\n",
    "\n",
    "Fine-tuning open source models gives you full control over how your model learns and behaves. While we'll use a small synthetic dataset of 256 examples for this tutorial, real-world applications benefit greatly from larger private datasets - the larger the better. This is because larger datasets allow you to capture specific domain knowledge and relationships that general models might miss.\n",
    "\n",
    "The main advantage of open source fine-tuning is the cost savings at inference time. Once trained, you can run these models on your own infrastructure without paying per-query fees. This makes them especially attractive for high-volume applications. We'll use sentence-transformers since it offers robust training options, works seamlessly with popular model hubs, and has strong community support.\n",
    "\n",
    "## What You'll Learn\n",
    "\n",
    "Though this hands on tutorial, you learn how to\n",
    "\n",
    "This notebook walks through:\n",
    "\n",
    "1. **Dataset Preparation**\n",
    "   - Creating train/test/eval splits\n",
    "   - Formatting data for triplet loss\n",
    "   - Setting up evaluation metrics\n",
    "\n",
    "2. **Model Fine-tuning**\n",
    "   - Configuring training arguments\n",
    "   - Setting up loss functions\n",
    "   - Training and monitoring progress\n",
    "   \n",
    "3. **Performance Evaluation**\n",
    "   - Comparing against base model\n",
    "   - Measuring recall and MRR improvements\n",
    "   - Analyzing trade-offs\n",
    "\n",
    "\n",
    "By the end of this notebook, you'll have a better understanding of when you might want to consider fine-tuning an open source embedding model, how you can do so using the `sentence-transformers` library and how to evaluate the performance of your fine-tuned model.\n"
   ]
  },
  {
   "cell_type": "markdown",
   "metadata": {},
   "source": [
    "## Setup\n",
    "\n",
    "In this section, we'll be fine-tuning the `BAAI/bge-base-en` model. We'll be using the `BatchSemiHardTripletLoss` loss function to train our model. Let's first understand how this loss function works before we dive into the code\n",
    "\n",
    "### Understanding Semi-Hard Triplet Loss\n",
    "\n",
    "\n",
    "A Batch Semi Hard Triplet Loss works by taking a batch of sentence pairs and computing the loss for all possible valid triplets, then identifying semi-hard positives and negatives. A semi-hard negative is an example that is not as close to the anchor as the positive example, but is still close to the anchor than the negative example. \n",
    "It works with three pieces:\n",
    "\n",
    "1. An anchor (your main example) - in our case, a transaction description\n",
    "2. A positive match (something similar) - the correct category\n",
    "3. A negative match (something different) - incorrect categories that are close, but not quite right\n",
    "\n",
    "We can see an example of this in the image below where we have an achor, a positive match and a negative match. The negative match is not as close to the anchor as the positive match, but is still close to the anchor than the negative match.\n",
    "\n",
    "<img src=\"./data/hard_negatives.png\" width=\"500\" alt=\"Semi-hard negative mining illustration\"/>\n",
    "\n",
    "For our transaction data, this translates to:\n",
    "- Anchor: Transaction description\n",
    "- Positive: Correct category\n",
    "- Negative: Similar but incorrect categories\n",
    "\n",
    "It's important here to note that the reason why we want an example that's **semi-hard** is because we want to find negative examples that are tricky. They need to be different as compared to the anchor, but not too different. This ultimately helps the model learn to distinguish between similar and dissimilar examples.\n",
    "\n",
    "\n",
    "<img src = \"./data/semi-hard-negative.png\" width = 500 />\n",
    "\n",
    "Using our Cohere dataset format:\n",
    "\n",
    "1. The transaction description becomes our anchor (query)\n",
    "2. The correct category is our positive match (relevant_passages)\n",
    "3. Similar but wrong categories are our negative matches (hard_negatives)\n",
    "\n",
    "While a single training run can provide a baseline, exploring hyperparameter optimization—through techniques like grid or random search—can significantly enhance model performance, especially when executed on a larger scale with appropriate computational resources. Here's a quick example of [how we can do this using `modal` to run a grid search over all possible parameters](https://modal.com/blog/fine-tuning-embeddings)\n",
    "\n",
    "\n",
    "### Declaring Constants\n",
    "\n",
    "When writing fine-tuning code, we want to declare our constants up front. This ensures that we have a consistent set of parameters to use when training our model and makes it easy for us to change them later."
   ]
  },
  {
   "cell_type": "code",
   "execution_count": 2,
   "metadata": {},
   "outputs": [],
   "source": [
    "# To resolve the warning from huggingface/tokenizers about parallelism:\n",
    "# 1. Avoid using `tokenizers` before the fork if possible.\n",
    "# 2. Explicitly set the environment variable TOKENIZERS_PARALLELISM to either 'true' or 'false'.\n",
    "import os\n",
    "\n",
    "# Set the environment variable to disable parallelism warnings\n",
    "os.environ[\"TOKENIZERS_PARALLELISM\"] = \"false\"\n",
    "\n",
    "TEST_SIZE = 0.2\n",
    "BASE_MODEL_NAME = \"BAAI/bge-base-en\"\n",
    "FINETUNED_MODEL_NAME = \"ivanleomk/finetuned-bge-base-en\"\n",
    "\n",
    "MODEL_OUTPUT_DIR = \"./models/bge-base-en\"\n",
    "CATEGORIES_PATH = \"data/categories.json\"\n",
    "TRAIN_EVALUATOR_NAME = \"bge-base-en-train\"\n",
    "EVAL_EVALUATOR_NAME = \"bge-base-en-eval\"\n"
   ]
  },
  {
   "cell_type": "markdown",
   "metadata": {},
   "source": [
    "### Preparing the Dataset\n",
    "\n",
    "While we use the same dataset as before, we need to handle a lot more configuration when fine-tuning open source models in order for us to evaluate our model's performance while training as well as to use the `BatchSemiHardTripletLoss` loss function.\n",
    "\n",
    "To do so, we'll format our original train and eval split into a train, test and eval split. \n",
    "\n",
    "- Train : This is only used to train the model\n",
    "- Test : This is used to evaluate the model during training\n",
    "- Eval : This is used to evaluate the model after training\n",
    "\n",
    "We want to have a separate set of data points set aside for testing our model during training or to use when evaluating different versions of our model. This ensures that our model does not overfit to the evaluation dataset."
   ]
  },
  {
   "cell_type": "code",
   "execution_count": 3,
   "metadata": {},
   "outputs": [
    {
     "name": "stderr",
     "output_type": "stream",
     "text": [
      "/Users/ivanleo/Documents/coding/systematically-improving-rag/cohort_2/.venv/lib/python3.9/site-packages/urllib3/__init__.py:35: NotOpenSSLWarning: urllib3 v2 only supports OpenSSL 1.1.1+, currently the 'ssl' module is compiled with 'LibreSSL 2.8.3'. See: https://github.com/urllib3/urllib3/issues/3020\n",
      "  warnings.warn(\n"
     ]
    }
   ],
   "source": [
    "import json\n",
    "from helpers import get_dataset_split\n",
    "categories = json.load(open(CATEGORIES_PATH))\n",
    "\n",
    "\n",
    "train_data = get_dataset_split(\"./data/train_transactions.jsonl\")\n",
    "eval_data = get_dataset_split(\"./data/eval_transactions.jsonl\")\n",
    "test_data = train_data[: int(len(train_data) * TEST_SIZE)]\n",
    "train_data = train_data[int(len(train_data) * TEST_SIZE) :]\n",
    "len(test_data),len(train_data),len(eval_data)"
   ]
  },
  {
   "cell_type": "code",
   "execution_count": 4,
   "metadata": {},
   "outputs": [],
   "source": [
    "from collections import defaultdict\n",
    "import random\n",
    "from datasets import Dataset\n",
    "\n",
    "\n",
    "def create_labels(data):\n",
    "    label_to_example = defaultdict(list)\n",
    "\n",
    "    for item in data:\n",
    "        label_to_example[item[\"expected\"][0]].append(item)\n",
    "\n",
    "    return {label: idx for idx, label in enumerate(label_to_example.keys())}\n",
    "\n",
    "\n",
    "def create_sentence_to_label_dataset(data, label_to_idx):\n",
    "    return Dataset.from_dict(\n",
    "        {\n",
    "            \"sentence\": [item[\"input\"] for item in data],\n",
    "            \"label\": [label_to_idx[item[\"expected\"][0]] for item in data],\n",
    "        }\n",
    "    )\n",
    "\n",
    "\n",
    "def create_triplet_dataset(data):\n",
    "    label_to_example = defaultdict(list)\n",
    "\n",
    "    for item in data:\n",
    "        label_to_example[item[\"expected\"][0]].append(item)\n",
    "\n",
    "    labels = set(label_to_example.keys())\n",
    "\n",
    "    anchors = []\n",
    "    positives = []\n",
    "    negatives = []\n",
    "\n",
    "    for item in data:\n",
    "        label = item[\"expected\"][0]\n",
    "        anchor = item\n",
    "        positive = label\n",
    "        negative = random.choice([item for item in labels if item != label])\n",
    "        anchors.append(anchor)\n",
    "        positives.append(positive)\n",
    "        negatives.append(negative)\n",
    "\n",
    "    return {\"anchor\": anchors, \"positive\": positives, \"negative\": negatives}\n",
    "\n",
    "\n",
    "labels_to_idx = create_labels(train_data)\n",
    "\n",
    "train_triplets = create_triplet_dataset(train_data)\n",
    "test_triplets = create_triplet_dataset(test_data)\n",
    "eval_triplets = create_triplet_dataset(eval_data)\n",
    "\n",
    "sentence_to_label_train_dataset = create_sentence_to_label_dataset(\n",
    "    train_data, labels_to_idx\n",
    ")\n",
    "sentence_to_label_test_dataset = create_sentence_to_label_dataset(\n",
    "    test_data, labels_to_idx\n",
    ")\n",
    "sentence_to_label_eval_dataset = create_sentence_to_label_dataset(\n",
    "    eval_data, labels_to_idx\n",
    ")\n"
   ]
  },
  {
   "cell_type": "markdown",
   "metadata": {},
   "source": [
    "### Fine-Tuning\n",
    "\n",
    "Now that we have our training data formatted in the right format, we can start training our model. We'll do so in 3 steps\n",
    "\n",
    "1. First we'll declare training arguments - we're using the default arguments provided in their documentation but ideally you'd want to experiment and tinkker with different configurations\n",
    "\n",
    "2. Next we'll start a training run. We're using the `wandb` integration here to log our training run to Weights & Biases. You'll need to create a Weights & Biases account and authenticate with `wandb login`\n",
    "\n",
    "3. Finally, we'll train our model before uploading it to the Hugging Face model hub."
   ]
  },
  {
   "cell_type": "code",
   "execution_count": 6,
   "metadata": {},
   "outputs": [
    {
     "data": {
      "text/plain": [
       "{'bge-base-en-train_cosine_accuracy': 0.8269230769230769,\n",
       " 'bge-base-en-train_dot_accuracy': 0.17307692307692307,\n",
       " 'bge-base-en-train_manhattan_accuracy': 0.8173076923076923,\n",
       " 'bge-base-en-train_euclidean_accuracy': 0.8269230769230769,\n",
       " 'bge-base-en-train_max_accuracy': 0.8269230769230769}"
      ]
     },
     "execution_count": 22,
     "metadata": {},
     "output_type": "execute_result"
    }
   ],
   "source": [
    "from sentence_transformers import (\n",
    "    SentenceTransformer,\n",
    "    SentenceTransformerTrainer,\n",
    "    SentenceTransformerTrainingArguments,\n",
    ")\n",
    "from sentence_transformers.losses import BatchSemiHardTripletLoss\n",
    "from sentence_transformers.training_args import BatchSamplers\n",
    "from sentence_transformers.evaluation import TripletEvaluator\n",
    "\n",
    "model = SentenceTransformer(BASE_MODEL_NAME)\n",
    "loss = BatchSemiHardTripletLoss(model)\n",
    "args = SentenceTransformerTrainingArguments(\n",
    "    # Required parameter:\n",
    "    output_dir=MODEL_OUTPUT_DIR,\n",
    "    num_train_epochs=5,\n",
    "    per_device_train_batch_size=16,\n",
    "    per_device_eval_batch_size=16,\n",
    "    learning_rate=2e-5,\n",
    "    warmup_ratio=0.1,\n",
    "    fp16=False,  # Set to False if you get an error that your GPU can't run on FP16\n",
    "    bf16=False,  # Set to True if you have a GPU that supports BF16\n",
    "    batch_sampler=BatchSamplers.NO_DUPLICATES,  # MultipleNegativesRankingLoss benefits from no duplicate samples in a batch\n",
    "    eval_strategy=\"steps\",\n",
    "    eval_steps=100,\n",
    "    save_strategy=\"steps\",\n",
    "    save_steps=100,\n",
    "    save_total_limit=2,\n",
    "    logging_steps=100,\n",
    ")\n",
    "\n",
    "train_evaluator = TripletEvaluator(\n",
    "    anchors=train_triplets[\"anchor\"],\n",
    "    positives=train_triplets[\"positive\"],\n",
    "    negatives=train_triplets[\"negative\"],\n",
    "    name=TRAIN_EVALUATOR_NAME,\n",
    ")\n",
    "\n",
    "train_evaluator(model)"
   ]
  },
  {
   "cell_type": "code",
   "execution_count": 23,
   "metadata": {},
   "outputs": [
    {
     "data": {
      "application/vnd.jupyter.widget-view+json": {
       "model_id": "78726d19657542eeac9b27605eecf183",
       "version_major": 2,
       "version_minor": 0
      },
      "text/plain": [
       "  0%|          | 0/65 [00:00<?, ?it/s]"
      ]
     },
     "metadata": {},
     "output_type": "display_data"
    },
    {
     "data": {
      "application/vnd.jupyter.widget-view+json": {
       "model_id": "3f9c6fdcb18247aeb5ff7b310a0c6e4b",
       "version_major": 2,
       "version_minor": 0
      },
      "text/plain": [
       "Computing widget examples:   0%|          | 0/1 [00:00<?, ?example/s]"
      ]
     },
     "metadata": {},
     "output_type": "display_data"
    },
    {
     "name": "stdout",
     "output_type": "stream",
     "text": [
      "{'train_runtime': 7.9645, 'train_samples_per_second': 130.58, 'train_steps_per_second': 8.161, 'train_loss': 4.90084463266226, 'epoch': 5.0}\n"
     ]
    },
    {
     "data": {
      "text/plain": [
       "TrainOutput(global_step=65, training_loss=4.90084463266226, metrics={'train_runtime': 7.9645, 'train_samples_per_second': 130.58, 'train_steps_per_second': 8.161, 'total_flos': 0.0, 'train_loss': 4.90084463266226, 'epoch': 5.0})"
      ]
     },
     "execution_count": 23,
     "metadata": {},
     "output_type": "execute_result"
    }
   ],
   "source": [
    "trainer = SentenceTransformerTrainer(\n",
    "    model=model,\n",
    "    args=args,\n",
    "    train_dataset=sentence_to_label_train_dataset,\n",
    "    eval_dataset=sentence_to_label_test_dataset,\n",
    "    loss=loss,\n",
    "    evaluator=train_evaluator,\n",
    ")\n",
    "\n",
    "trainer.train()"
   ]
  },
  {
   "cell_type": "code",
   "execution_count": 24,
   "metadata": {},
   "outputs": [
    {
     "data": {
      "text/plain": [
       "{'bge-base-en-eval_cosine_accuracy': 0.9393939393939394,\n",
       " 'bge-base-en-eval_dot_accuracy': 0.06060606060606061,\n",
       " 'bge-base-en-eval_manhattan_accuracy': 0.9393939393939394,\n",
       " 'bge-base-en-eval_euclidean_accuracy': 0.9393939393939394,\n",
       " 'bge-base-en-eval_max_accuracy': 0.9393939393939394}"
      ]
     },
     "execution_count": 24,
     "metadata": {},
     "output_type": "execute_result"
    }
   ],
   "source": [
    "test_evaluator = TripletEvaluator(\n",
    "    anchors=eval_triplets[\"anchor\"],\n",
    "    positives=eval_triplets[\"positive\"],\n",
    "    negatives=eval_triplets[\"negative\"],\n",
    "    name=EVAL_EVALUATOR_NAME,\n",
    ")\n",
    "test_evaluator(model)"
   ]
  },
  {
   "cell_type": "code",
   "execution_count": 25,
   "metadata": {},
   "outputs": [
    {
     "data": {
      "application/vnd.jupyter.widget-view+json": {
       "model_id": "39e9ba978cf6423fb52d1aa5f3c08501",
       "version_major": 2,
       "version_minor": 0
      },
      "text/plain": [
       "model.safetensors:   0%|          | 0.00/438M [00:00<?, ?B/s]"
      ]
     },
     "metadata": {},
     "output_type": "display_data"
    },
    {
     "data": {
      "text/plain": [
       "'https://huggingface.co/ivanleomk/finetuned-bge-base-en/commit/3abaa388fc4aa26f87d831b3ea787703a1681ca6'"
      ]
     },
     "execution_count": 25,
     "metadata": {},
     "output_type": "execute_result"
    }
   ],
   "source": [
    "model.save_pretrained(f\"models/finetuned-{BASE_MODEL_NAME}\")\n",
    "model.push_to_hub(FINETUNED_MODEL_NAME, exist_ok=True)\n"
   ]
  },
  {
   "cell_type": "markdown",
   "metadata": {},
   "source": [
    "## Evaluation\n",
    "\n",
    "> **Note** : If you haven't had your braintrust free tier bumped yet, we've implemented a version below that uses the ThreadPoolExecutor to parallelize the evaluation process instead. Scroll down a bit more to see it.\n",
    "\n",
    "Here we use `lancedb` again to evaluate our model. It comes with out of the box support for hugging face models, which makkes it incredibly easy for us to evaluate our fine-tuned model vs the base model. \n",
    "\n",
    "We'll similarly use `braintrust` to evaluate our model and compare it against the base model by looking at recall and mrr @1,3,5."
   ]
  },
  {
   "cell_type": "code",
   "execution_count": 6,
   "metadata": {},
   "outputs": [],
   "source": [
    "import lancedb\n",
    "from lancedb.pydantic import LanceModel, Vector\n",
    "from lancedb.embeddings import get_registry\n",
    "import json\n",
    "\n",
    "def create_lancedb_table(model_name: str, categories: list[str]):\n",
    "    model = get_registry().get(\"huggingface\").create(name=model_name)\n",
    "\n",
    "\n",
    "    class Category(LanceModel):\n",
    "        text: str = model.SourceField()\n",
    "        embedding: Vector(model.ndims()) = model.VectorField()\n",
    "\n",
    "\n",
    "    db = lancedb.connect(\"./lancedb\")\n",
    "    table_name = f\"categories-{model_name.replace('/', '-')}\"\n",
    "    if table_name in db.table_names():\n",
    "        table = db.open_table(table_name)\n",
    "    else:\n",
    "        table = db.create_table(\n",
    "            table_name, schema=Category, mode=\"overwrite\"\n",
    "        )\n",
    "        table.add(\n",
    "            [\n",
    "                {\n",
    "                    \"text\": category[\"category\"],\n",
    "                }\n",
    "                for category in categories\n",
    "            ]\n",
    "        )\n",
    "\n",
    "    return table"
   ]
  },
  {
   "cell_type": "code",
   "execution_count": 9,
   "metadata": {},
   "outputs": [
    {
     "name": "stderr",
     "output_type": "stream",
     "text": [
      "Experiment synthetic-transactions-train-categories-BAAI-bge-base-en-0e21f37e is running at https://www.braintrust.dev/app/567/p/fine-tuning/experiments/synthetic-transactions-train-categories-BAAI-bge-base-en-0e21f37e\n",
      "fine-tuning [experiment_name=synthetic-transactions-train-categories-BAAI-bge-base-en] (data): 66it [00:00, 7679.96it/s]\n"
     ]
    },
    {
     "data": {
      "application/vnd.jupyter.widget-view+json": {
       "model_id": "3a1fbb94f68448c8b11f0b1d35041368",
       "version_major": 2,
       "version_minor": 0
      },
      "text/plain": [
       "fine-tuning [experiment_name=synthetic-transactions-train-categories-BAAI-bge-base-en] (tasks):   0%|         …"
      ]
     },
     "metadata": {},
     "output_type": "display_data"
    },
    {
     "name": "stdout",
     "output_type": "stream",
     "text": [
      "\n",
      "=========================SUMMARY=========================\n",
      "synthetic-transactions-train-categories-BAAI-bge-base-en-0e21f37e compared to synthetic-transactions-train-categories-ivanleomk-finetuned-bge-base-en-test:\n",
      "39.39% (-18.18%) 'mrr@1'    score\t(5 improvements, 17 regressions)\n",
      "53.28% (-17.93%) 'mrr@3'    score\t(6 improvements, 26 regressions)\n",
      "54.27% (-18.31%) 'mrr@5'    score\t(6 improvements, 29 regressions)\n",
      "39.39% (-18.18%) 'recall@1' score\t(5 improvements, 17 regressions)\n",
      "71.21% (-15.15%) 'recall@3' score\t(1 improvements, 11 regressions)\n",
      "75.76% (-16.67%) 'recall@5' score\t(0 improvements, 11 regressions)\n",
      "\n",
      "1739747903.70s start\n",
      "1739747904.89s end\n",
      "0.85s (-46.46%) 'duration'\t(66 improvements, 0 regressions)\n",
      "\n",
      "See results for synthetic-transactions-train-categories-BAAI-bge-base-en-0e21f37e at https://www.braintrust.dev/app/567/p/fine-tuning/experiments/synthetic-transactions-train-categories-BAAI-bge-base-en-0e21f37e\n"
     ]
    },
    {
     "name": "stderr",
     "output_type": "stream",
     "text": [
      "Experiment synthetic-transactions-train-categories-ivanleomk-finetuned-bge-base-en-0d7d8650 is running at https://www.braintrust.dev/app/567/p/fine-tuning/experiments/synthetic-transactions-train-categories-ivanleomk-finetuned-bge-base-en-0d7d8650\n",
      "fine-tuning [experiment_name=synthetic-transactions-train-categories-ivanleomk-finetuned-bge-base-en] (data): 66it [00:00, 43396.15it/s]\n"
     ]
    },
    {
     "data": {
      "application/vnd.jupyter.widget-view+json": {
       "model_id": "aa4f12fe897e41c1af7f4811c280cc1f",
       "version_major": 2,
       "version_minor": 0
      },
      "text/plain": [
       "fine-tuning [experiment_name=synthetic-transactions-train-categories-ivanleomk-finetuned-bge-base-en] (tasks):…"
      ]
     },
     "metadata": {},
     "output_type": "display_data"
    },
    {
     "name": "stdout",
     "output_type": "stream",
     "text": [
      "\n",
      "=========================SUMMARY=========================\n",
      "synthetic-transactions-train-categories-ivanleomk-finetuned-bge-base-en-0d7d8650 compared to synthetic-transactions-train-categories-ivanleomk-finetuned-bge-base-en-test:\n",
      "54.55% (-03.03%) 'mrr@1'    score\t(1 improvements, 3 regressions)\n",
      "69.44% (-01.77%) 'mrr@3'    score\t(2 improvements, 5 regressions)\n",
      "70.20% (-02.37%) 'mrr@5'    score\t(2 improvements, 7 regressions)\n",
      "54.55% (-03.03%) 'recall@1' score\t(1 improvements, 3 regressions)\n",
      "86.36% (-) 'recall@3' score\t(0 improvements, 0 regressions)\n",
      "89.39% (-03.03%) 'recall@5' score\t(0 improvements, 2 regressions)\n",
      "\n",
      "1739747908.17s start\n",
      "1739747911.53s end\n",
      "3.03s (+170.91%) 'duration'\t(0 improvements, 66 regressions)\n",
      "\n",
      "See results for synthetic-transactions-train-categories-ivanleomk-finetuned-bge-base-en-0d7d8650 at https://www.braintrust.dev/app/567/p/fine-tuning/experiments/synthetic-transactions-train-categories-ivanleomk-finetuned-bge-base-en-0d7d8650\n"
     ]
    }
   ],
   "source": [
    "\n",
    "from braintrust import Score, EvalAsync\n",
    "from helpers import get_metrics_at_k, task\n",
    "import json\n",
    "\n",
    "categories = json.load(open(CATEGORIES_PATH))\n",
    "base_table = create_lancedb_table(BASE_MODEL_NAME, categories)\n",
    "finetuned_table = create_lancedb_table(FINETUNED_MODEL_NAME, categories)\n",
    "\n",
    "db = lancedb.connect(\"./lancedb\")\n",
    "\n",
    "\n",
    "def evaluate_braintrust(input, output, **kwargs):\n",
    "    metrics = get_metrics_at_k(metrics=[\"mrr\", \"recall\"], sizes=[1, 3, 5])\n",
    "    return [\n",
    "        Score(\n",
    "            name=metric,\n",
    "            score=score_fn(output, kwargs[\"expected\"]),\n",
    "            metadata={\"query\": input, \"result\": output, **kwargs[\"metadata\"]},\n",
    "        )\n",
    "        for metric, score_fn in metrics.items()\n",
    "    ]\n",
    "\n",
    "results = []\n",
    "for query_table in [base_table, finetuned_table]:\n",
    "    results.append(\n",
    "        await EvalAsync(\n",
    "        \"fine-tuning\",\n",
    "        experiment_name=f\"synthetic-transactions-train-{query_table.name}\",\n",
    "        data=lambda: eval_data,\n",
    "        task=lambda query: task(user_query=query, table=query_table, reranker=None, max_k=25),\n",
    "        scores=[evaluate_braintrust],\n",
    "        metadata={\"model\": query_table.name},\n",
    "    )\n",
    "    )\n"
   ]
  },
  {
   "cell_type": "code",
   "execution_count": 28,
   "metadata": {},
   "outputs": [
    {
     "data": {
      "text/html": [
       "<div>\n",
       "<style scoped>\n",
       "    .dataframe tbody tr th:only-of-type {\n",
       "        vertical-align: middle;\n",
       "    }\n",
       "\n",
       "    .dataframe tbody tr th {\n",
       "        vertical-align: top;\n",
       "    }\n",
       "\n",
       "    .dataframe thead th {\n",
       "        text-align: right;\n",
       "    }\n",
       "</style>\n",
       "<table border=\"1\" class=\"dataframe\">\n",
       "  <thead>\n",
       "    <tr style=\"text-align: right;\">\n",
       "      <th></th>\n",
       "      <th>mrr@1</th>\n",
       "      <th>mrr@3</th>\n",
       "      <th>mrr@5</th>\n",
       "      <th>recall@1</th>\n",
       "      <th>recall@3</th>\n",
       "      <th>recall@5</th>\n",
       "    </tr>\n",
       "  </thead>\n",
       "  <tbody>\n",
       "    <tr>\n",
       "      <th>Base Model</th>\n",
       "      <td>0.39</td>\n",
       "      <td>0.53</td>\n",
       "      <td>0.54</td>\n",
       "      <td>0.39</td>\n",
       "      <td>0.71</td>\n",
       "      <td>0.76</td>\n",
       "    </tr>\n",
       "    <tr>\n",
       "      <th>Fine-Tuned Model</th>\n",
       "      <td>0.55</td>\n",
       "      <td>0.69</td>\n",
       "      <td>0.70</td>\n",
       "      <td>0.55</td>\n",
       "      <td>0.86</td>\n",
       "      <td>0.89</td>\n",
       "    </tr>\n",
       "  </tbody>\n",
       "</table>\n",
       "</div>"
      ],
      "text/plain": [
       "                  mrr@1  mrr@3  mrr@5  recall@1  recall@3  recall@5\n",
       "Base Model         0.39   0.53   0.54      0.39      0.71      0.76\n",
       "Fine-Tuned Model   0.55   0.69   0.70      0.55      0.86      0.89"
      ]
     },
     "execution_count": 28,
     "metadata": {},
     "output_type": "execute_result"
    }
   ],
   "source": [
    "import pandas as pd\n",
    "scores = []\n",
    "\n",
    "for result in results:\n",
    "    result_scores = {}\n",
    "    for score_name, score in result.summary.scores.items():\n",
    "        result_scores[score_name] = score.score\n",
    "    scores.append(result_scores)\n",
    "\n",
    "df = pd.DataFrame(scores,index=[\"Base Model\", \"Fine-Tuned Model\"])\n",
    "df.round(2)"
   ]
  },
  {
   "cell_type": "code",
   "execution_count": 10,
   "metadata": {},
   "outputs": [
    {
     "name": "stdout",
     "output_type": "stream",
     "text": [
      "mrr@1       0.3939\n",
      "mrr@3       0.5328\n",
      "mrr@5       0.5427\n",
      "recall@1    0.3939\n",
      "recall@3    0.7121\n",
      "recall@5    0.7576\n",
      "dtype: float64\n",
      "mrr@1       0.5455\n",
      "mrr@3       0.6944\n",
      "mrr@5       0.7020\n",
      "recall@1    0.5455\n",
      "recall@3    0.8636\n",
      "recall@5    0.8939\n",
      "dtype: float64\n"
     ]
    }
   ],
   "source": [
    "from concurrent.futures import ThreadPoolExecutor\n",
    "from helpers import task, get_metrics_at_k\n",
    "import pandas as pd\n",
    "\n",
    "metrics = get_metrics_at_k(metrics=[\"mrr\", \"recall\"], sizes=[1, 3, 5])\n",
    "\n",
    "def evaluate_query(output, expense_category):\n",
    "    scores = {}\n",
    "    for metric, score_fn in metrics.items():\n",
    "        scores[metric] = score_fn(output, expense_category)\n",
    "    return scores\n",
    "\n",
    "results = {}\n",
    "\n",
    "with ThreadPoolExecutor(max_workers=10) as executor:\n",
    "    for table in [base_table, finetuned_table]:\n",
    "        query_results = list(\n",
    "            executor.map(\n",
    "                lambda q: task(\n",
    "                    user_query=q[\"input\"], \n",
    "                    table=table,\n",
    "                    reranker=None,\n",
    "                    max_k=25\n",
    "                ),\n",
    "                eval_data,\n",
    "            )\n",
    "        )\n",
    "        scores = [\n",
    "            evaluate_query(output, transaction[\"expected\"]) \n",
    "            for output, transaction in zip(query_results, eval_data)\n",
    "        ]\n",
    "        df = pd.DataFrame(scores)\n",
    "        results[table.name] = round(pd.DataFrame(scores).mean(), 4)\n",
    "        print(results[table.name])\n"
   ]
  },
  {
   "cell_type": "code",
   "execution_count": 11,
   "metadata": {},
   "outputs": [
    {
     "data": {
      "text/html": [
       "<div>\n",
       "<style scoped>\n",
       "    .dataframe tbody tr th:only-of-type {\n",
       "        vertical-align: middle;\n",
       "    }\n",
       "\n",
       "    .dataframe tbody tr th {\n",
       "        vertical-align: top;\n",
       "    }\n",
       "\n",
       "    .dataframe thead th {\n",
       "        text-align: right;\n",
       "    }\n",
       "</style>\n",
       "<table border=\"1\" class=\"dataframe\">\n",
       "  <thead>\n",
       "    <tr style=\"text-align: right;\">\n",
       "      <th></th>\n",
       "      <th>mrr@1</th>\n",
       "      <th>mrr@3</th>\n",
       "      <th>mrr@5</th>\n",
       "      <th>recall@1</th>\n",
       "      <th>recall@3</th>\n",
       "      <th>recall@5</th>\n",
       "    </tr>\n",
       "  </thead>\n",
       "  <tbody>\n",
       "    <tr>\n",
       "      <th>Base Model</th>\n",
       "      <td>0.39</td>\n",
       "      <td>0.53</td>\n",
       "      <td>0.54</td>\n",
       "      <td>0.39</td>\n",
       "      <td>0.71</td>\n",
       "      <td>0.76</td>\n",
       "    </tr>\n",
       "    <tr>\n",
       "      <th>Fine-Tuned Model</th>\n",
       "      <td>0.55</td>\n",
       "      <td>0.69</td>\n",
       "      <td>0.70</td>\n",
       "      <td>0.55</td>\n",
       "      <td>0.86</td>\n",
       "      <td>0.89</td>\n",
       "    </tr>\n",
       "  </tbody>\n",
       "</table>\n",
       "</div>"
      ],
      "text/plain": [
       "                  mrr@1  mrr@3  mrr@5  recall@1  recall@3  recall@5\n",
       "Base Model         0.39   0.53   0.54      0.39      0.71      0.76\n",
       "Fine-Tuned Model   0.55   0.69   0.70      0.55      0.86      0.89"
      ]
     },
     "execution_count": 11,
     "metadata": {},
     "output_type": "execute_result"
    }
   ],
   "source": [
    "\n",
    "df = pd.DataFrame(results.values(), index=[\"Base Model\", \"Fine-Tuned Model\"])\n",
    "df.round(2)"
   ]
  },
  {
   "cell_type": "code",
   "execution_count": 12,
   "metadata": {},
   "outputs": [
    {
     "data": {
      "image/png": "[encoded data removed]",
      "text/plain": [
       "<Figure size 1600x500 with 2 Axes>"
      ]
     },
     "metadata": {},
     "output_type": "display_data"
    }
   ],
   "source": [
    "import matplotlib.pyplot as plt\n",
    "import numpy as np\n",
    "\n",
    "# Create figure with two subplots side by side\n",
    "fig, (ax1, ax2) = plt.subplots(1, 2, figsize=(16, 5))\n",
    "\n",
    "# Plot MRR scores\n",
    "mrr_cols = ['mrr@1', 'mrr@3', 'mrr@5']\n",
    "x = np.arange(len(mrr_cols))\n",
    "width = 0.25\n",
    "\n",
    "for i, model in enumerate(df.index):\n",
    "    offset = (i - 1) * width\n",
    "    ax1.bar(x + offset, df.loc[model, mrr_cols], width, label=model)\n",
    "\n",
    "ax1.set_title('Mean Reciprocal Rank (MRR)')\n",
    "ax1.set_xticks(x)\n",
    "ax1.set_xticklabels(mrr_cols)\n",
    "ax1.set_ylabel('Score')\n",
    "ax1.legend()\n",
    "ax1.grid(True, alpha=0.3)\n",
    "\n",
    "# Plot Recall scores\n",
    "recall_cols = ['recall@1', 'recall@3', 'recall@5']\n",
    "x = np.arange(len(recall_cols))\n",
    "\n",
    "for i, model in enumerate(df.index):\n",
    "    offset = (i - 1) * width\n",
    "    ax2.bar(x + offset, df.loc[model, recall_cols], width, label=model)\n",
    "\n",
    "ax2.set_title('Recall')\n",
    "ax2.set_xticks(x)\n",
    "ax2.set_xticklabels(recall_cols)\n",
    "ax2.set_ylabel('Score')\n",
    "ax2.legend()\n",
    "ax2.grid(True, alpha=0.3)\n",
    "\n",
    "plt.tight_layout()\n",
    "plt.show()\n"
   ]
  },
  {
   "cell_type": "markdown",
   "metadata": {},
   "source": [
    "## Conclusion\n",
    "\n",
    "In this notebook, we successfully fine-tuned the BAAI/bge-base-en model using sentence-transformers, achieving a 20% improvement in MRR@1 and a 12% increase in recall@5 compared to the base model. More importantly, we learned how to balance performance gains against implementation complexity.\n",
    "\n",
    "This concludes our exploration of fine-tuning approaches, where we:\n",
    "\n",
    "1. Created synthetic training data thoughtfully using iterative generation and manual review to ensure quality\n",
    "2. Explored managed re-rankers through Cohere, showing how they offer quick wins with minimal setup\n",
    "3. Implemented open-source fine-tuning using sentence-transformers, trading simplicity for greater control and lower inference costs\n",
    "\n",
    "While managed solutions like Cohere offer faster time-to-production and simplified deployment, open-source models provide greater control and customization potential. The choice between these approaches should be guided by your specific requirements, resources, and the level of performance improvement needed for your use case. \n",
    "\n",
    "These retrieval improvements complement the techniques we'll explore in later weeks - like discovering query patterns (Week 4) and handling structured data (Week 5). By combining effective retrieval with these methods, we can build more robust and capable RAG systems."
   ]
  }
 ],
 "metadata": {
  "kernelspec": {
   "display_name": ".venv",
   "language": "python",
   "name": "python3"
  },
  "language_info": {
   "codemirror_mode": {
    "name": "ipython",
    "version": 3
   },
   "file_extension": ".py",
   "mimetype": "text/x-python",
   "name": "python",
   "nbconvert_exporter": "python",
   "pygments_lexer": "ipython3",
   "version": "3.9.6"
  }
 },
 "nbformat": 4,
 "nbformat_minor": 2
}
