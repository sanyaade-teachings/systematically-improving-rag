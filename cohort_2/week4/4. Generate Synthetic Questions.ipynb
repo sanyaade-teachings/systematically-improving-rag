{
 "cells": [
  {
   "cell_type": "markdown",
   "metadata": {},
   "source": [
    "In this notebook, we'll generate a synthetic dataset of questions which we'll use `kura` to reconstruct. This way we can know with confidence that our hierachal topic modelling is working as intended"
   ]
  },
  {
   "cell_type": "code",
   "execution_count": 1,
   "metadata": {},
   "outputs": [
    {
     "name": "stdout",
     "output_type": "stream",
     "text": [
      "8\n",
      "Account & Eligibility: 4\n",
      "Payment Scheduling & Management: 4\n",
      "Fees, Interest & Penalties: 4\n",
      "Order & Merchant Issues: 3\n",
      "Disputes & Fraud: 3\n",
      "Technical Support: 4\n",
      "General Inquiries: 4\n",
      "Emotional/Urgent Cases: 4\n"
     ]
    }
   ],
   "source": [
    "# First let's load in our categories\n",
    "import yaml\n",
    "\n",
    "with open(\"kura_categories.yml\", \"r\") as f:\n",
    "    categories = yaml.safe_load(f)\n",
    "\n",
    "# Now let's do a quick count of the categoreis and subcategories\n",
    "print(len(categories))\n",
    "for category in categories:\n",
    "    print(f\"{category}: {len(categories[category])}\")"
   ]
  },
  {
   "cell_type": "markdown",
   "metadata": {},
   "source": [
    "With approximately 8 categories, we'll generate 20 synthetic conversations for each and then see how our model is able to reconstruct them"
   ]
  },
  {
   "cell_type": "code",
   "execution_count": 6,
   "metadata": {},
   "outputs": [],
   "source": [
    "import instructor\n",
    "from typing import Literal\n",
    "from pydantic import BaseModel\n",
    "\n",
    "client = instructor.from_provider(\"openai/gpt-4.1-mini\",async_client=True)\n",
    "\n",
    "\n",
    "# Now let's define our data model\n",
    "class Message(BaseModel):\n",
    "    role: Literal[\"user\", \"assistant\"]\n",
    "    content: str\n",
    "\n",
    "class GeneratedConversation(BaseModel):\n",
    "    conversation: list[Message]\n",
    "\n",
    "class Conversation(BaseModel):\n",
    "    messages: list[Message]\n",
    "    category: str\n",
    "    subcategory: str\n"
   ]
  },
  {
   "cell_type": "markdown",
   "metadata": {},
   "source": [
    "Now let's generate our first few conversations for our synthetic dataset. We'll sample from the top level categories and then the subcategories with equal probability.\n",
    "\n",
    "We'll generate around 5-10 per category first before using these generated examples as few shot examples down the line."
   ]
  },
  {
   "cell_type": "code",
   "execution_count": 3,
   "metadata": {},
   "outputs": [
    {
     "data": {
      "text/html": [
       "<pre style=\"white-space:pre;overflow-x:auto;line-height:normal;font-family:Menlo,'DejaVu Sans Mono',consolas,'Courier New',monospace\"><span style=\"color: #800080; text-decoration-color: #800080; font-weight: bold\">Config</span><span style=\"font-weight: bold\">(</span>\n",
       "    <span style=\"color: #808000; text-decoration-color: #808000\">category</span>=<span style=\"color: #008000; text-decoration-color: #008000\">'Technical Support'</span>,\n",
       "    <span style=\"color: #808000; text-decoration-color: #808000\">subcategory</span>=<span style=\"color: #800080; text-decoration-color: #800080; font-weight: bold\">Subcategory</span><span style=\"font-weight: bold\">(</span>\n",
       "        <span style=\"color: #808000; text-decoration-color: #808000\">title</span>=<span style=\"color: #008000; text-decoration-color: #008000\">'App or Website Malfunctions'</span>,\n",
       "        <span style=\"color: #808000; text-decoration-color: #808000\">description</span>=<span style=\"color: #008000; text-decoration-color: #008000\">'Fixes for crashes, freezes, and outdated app versions.'</span>,\n",
       "        <span style=\"color: #808000; text-decoration-color: #808000\">sample_questions</span>=<span style=\"font-weight: bold\">[</span>\n",
       "            <span style=\"color: #008000; text-decoration-color: #008000\">'The app crashes every time I open it.'</span>,\n",
       "            <span style=\"color: #008000; text-decoration-color: #008000\">'Why is the website stuck on the loading screen?'</span>,\n",
       "            <span style=\"color: #008000; text-decoration-color: #008000\">'Does reinstalling delete my payment info?'</span>,\n",
       "            <span style=\"color: #008000; text-decoration-color: #008000\">'Is there an outage right now?'</span>,\n",
       "            <span style=\"color: #008000; text-decoration-color: #008000\">'When is the next app update coming?'</span>\n",
       "        <span style=\"font-weight: bold\">]</span>\n",
       "    <span style=\"font-weight: bold\">)</span>,\n",
       "    <span style=\"color: #808000; text-decoration-color: #808000\">sample_conversations</span>=<span style=\"font-weight: bold\">[]</span>\n",
       "<span style=\"font-weight: bold\">)</span>\n",
       "</pre>\n"
      ],
      "text/plain": [
       "\u001b[1;35mConfig\u001b[0m\u001b[1m(\u001b[0m\n",
       "    \u001b[33mcategory\u001b[0m=\u001b[32m'Technical Support'\u001b[0m,\n",
       "    \u001b[33msubcategory\u001b[0m=\u001b[1;35mSubcategory\u001b[0m\u001b[1m(\u001b[0m\n",
       "        \u001b[33mtitle\u001b[0m=\u001b[32m'App or Website Malfunctions'\u001b[0m,\n",
       "        \u001b[33mdescription\u001b[0m=\u001b[32m'Fixes for crashes, freezes, and outdated app versions.'\u001b[0m,\n",
       "        \u001b[33msample_questions\u001b[0m=\u001b[1m[\u001b[0m\n",
       "            \u001b[32m'The app crashes every time I open it.'\u001b[0m,\n",
       "            \u001b[32m'Why is the website stuck on the loading screen?'\u001b[0m,\n",
       "            \u001b[32m'Does reinstalling delete my payment info?'\u001b[0m,\n",
       "            \u001b[32m'Is there an outage right now?'\u001b[0m,\n",
       "            \u001b[32m'When is the next app update coming?'\u001b[0m\n",
       "        \u001b[1m]\u001b[0m\n",
       "    \u001b[1m)\u001b[0m,\n",
       "    \u001b[33msample_conversations\u001b[0m=\u001b[1m[\u001b[0m\u001b[1m]\u001b[0m\n",
       "\u001b[1m)\u001b[0m\n"
      ]
     },
     "metadata": {},
     "output_type": "display_data"
    }
   ],
   "source": [
    "import random\n",
    "from rich import print\n",
    "\n",
    "\n",
    "class Subcategory(BaseModel):\n",
    "    title: str\n",
    "    description: str\n",
    "    sample_questions: list[str]\n",
    "\n",
    "\n",
    "class Config(BaseModel):\n",
    "    category: str\n",
    "    subcategory: Subcategory\n",
    "    sample_conversations: list[Conversation]\n",
    "\n",
    "    @classmethod\n",
    "    def get_random_config(cls, config_dict: dict):\n",
    "        category = random.choice(list(config_dict.keys()))\n",
    "        subcategory = random.choice(list(config_dict[category].keys()))\n",
    "        return cls(\n",
    "            category=category,\n",
    "            subcategory=Subcategory(**config_dict[category][subcategory]),\n",
    "            sample_conversations=[],\n",
    "        )\n",
    "\n",
    "\n",
    "print(Config.get_random_config(categories))"
   ]
  },
  {
   "cell_type": "code",
   "execution_count": 7,
   "metadata": {},
   "outputs": [],
   "source": [
    "async def generate_conversation(client:instructor.AsyncInstructor,config:Config):\n",
    "    conversation = await client.chat.completions.create(\n",
    "        messages=[\n",
    "            {\n",
    "                \"role\":\"system\",\n",
    "                \"content\":f\"\"\"\n",
    "                Generate a conversation between a customer and a BNPL service representative that covers the following category and subcategory:\n",
    "                Category: {config.category}\n",
    "                Subcategory: {config.subcategory.title}\n",
    "\n",
    "                Here are some examples of questions that the customer might ask:\n",
    "                {config.subcategory.sample_questions}\n",
    "\n",
    "                make sure to start your conversation with an appropriate greeting by the assistant and then have the user start the conversation up with the questions. Simulate the conversation with a natural flow and make sure the user's question is resolved in the conversation.\n",
    "\n",
    "                Make sure to resolve the conversation in {random.randint(5,12)} messages and have the conversation end with the user's query being resolved or the user thanking the assistant and ending the conversation.\n",
    "                \"\"\"\n",
    "            }\n",
    "        ],\n",
    "        response_model=GeneratedConversation,\n",
    "    )\n",
    "\n",
    "    return Conversation(\n",
    "        messages=conversation.conversation,\n",
    "        category=config.category,\n",
    "        subcategory=config.subcategory.title,\n",
    "    )"
   ]
  },
  {
   "cell_type": "markdown",
   "metadata": {},
   "source": [
    "Now let's generate around 10 initial conversations like this"
   ]
  },
  {
   "cell_type": "code",
   "execution_count": 8,
   "metadata": {},
   "outputs": [
    {
     "name": "stderr",
     "output_type": "stream",
     "text": [
      "100%|██████████| 2/2 [00:17<00:00,  8.91s/it]\n"
     ]
    }
   ],
   "source": [
    "from tqdm.asyncio import tqdm_asyncio\n",
    "\n",
    "coros = [generate_conversation(client, Config.get_random_config(categories)) for _ in range(2)]\n",
    "\n",
    "conversations = await tqdm_asyncio.gather(*coros)\n"
   ]
  },
  {
   "cell_type": "markdown",
   "metadata": {},
   "source": [
    "We'll also do a quick count of the categories and subcategories breakdown too"
   ]
  },
  {
   "cell_type": "code",
   "execution_count": 9,
   "metadata": {},
   "outputs": [
    {
     "data": {
      "text/html": [
       "<pre style=\"white-space:pre;overflow-x:auto;line-height:normal;font-family:Menlo,'DejaVu Sans Mono',consolas,'Courier New',monospace\"><span style=\"color: #800080; text-decoration-color: #800080; font-weight: bold\">Counter</span><span style=\"font-weight: bold\">({</span><span style=\"color: #008000; text-decoration-color: #008000\">'Emotional/Urgent Cases'</span>: <span style=\"color: #008080; text-decoration-color: #008080; font-weight: bold\">1</span>, <span style=\"color: #008000; text-decoration-color: #008000\">'General Inquiries'</span>: <span style=\"color: #008080; text-decoration-color: #008080; font-weight: bold\">1</span><span style=\"font-weight: bold\">})</span>\n",
       "</pre>\n"
      ],
      "text/plain": [
       "\u001b[1;35mCounter\u001b[0m\u001b[1m(\u001b[0m\u001b[1m{\u001b[0m\u001b[32m'Emotional/Urgent Cases'\u001b[0m: \u001b[1;36m1\u001b[0m, \u001b[32m'General Inquiries'\u001b[0m: \u001b[1;36m1\u001b[0m\u001b[1m}\u001b[0m\u001b[1m)\u001b[0m\n"
      ]
     },
     "metadata": {},
     "output_type": "display_data"
    }
   ],
   "source": [
    "from collections import Counter\n",
    "\n",
    "category_counter = Counter([conversation.category for conversation in conversations])\n",
    "print(category_counter)"
   ]
  },
  {
   "cell_type": "markdown",
   "metadata": {},
   "source": [
    "Now let's see the breakdown for each subcategory under each category"
   ]
  },
  {
   "cell_type": "code",
   "execution_count": 10,
   "metadata": {},
   "outputs": [
    {
     "data": {
      "text/plain": [
       "('Emotional/Urgent Cases', 'Urgent Fraud or Security Alert')"
      ]
     },
     "execution_count": 10,
     "metadata": {},
     "output_type": "execute_result"
    }
   ],
   "source": [
    "conversations[0].category,conversations[0].subcategory"
   ]
  },
  {
   "cell_type": "code",
   "execution_count": 11,
   "metadata": {},
   "outputs": [
    {
     "data": {
      "text/html": [
       "<pre style=\"white-space:pre;overflow-x:auto;line-height:normal;font-family:Menlo,'DejaVu Sans Mono',consolas,'Courier New',monospace\">Account &amp; Eligibility\n",
       "</pre>\n"
      ],
      "text/plain": [
       "Account & Eligibility\n"
      ]
     },
     "metadata": {},
     "output_type": "display_data"
    },
    {
     "data": {
      "text/html": [
       "<pre style=\"white-space:pre;overflow-x:auto;line-height:normal;font-family:Menlo,'DejaVu Sans Mono',consolas,'Courier New',monospace\">Payment Scheduling &amp; Management\n",
       "</pre>\n"
      ],
      "text/plain": [
       "Payment Scheduling & Management\n"
      ]
     },
     "metadata": {},
     "output_type": "display_data"
    },
    {
     "data": {
      "text/html": [
       "<pre style=\"white-space:pre;overflow-x:auto;line-height:normal;font-family:Menlo,'DejaVu Sans Mono',consolas,'Courier New',monospace\">Fees, Interest &amp; Penalties\n",
       "</pre>\n"
      ],
      "text/plain": [
       "Fees, Interest & Penalties\n"
      ]
     },
     "metadata": {},
     "output_type": "display_data"
    },
    {
     "data": {
      "text/html": [
       "<pre style=\"white-space:pre;overflow-x:auto;line-height:normal;font-family:Menlo,'DejaVu Sans Mono',consolas,'Courier New',monospace\">Order &amp; Merchant Issues\n",
       "</pre>\n"
      ],
      "text/plain": [
       "Order & Merchant Issues\n"
      ]
     },
     "metadata": {},
     "output_type": "display_data"
    },
    {
     "data": {
      "text/html": [
       "<pre style=\"white-space:pre;overflow-x:auto;line-height:normal;font-family:Menlo,'DejaVu Sans Mono',consolas,'Courier New',monospace\">Disputes &amp; Fraud\n",
       "</pre>\n"
      ],
      "text/plain": [
       "Disputes & Fraud\n"
      ]
     },
     "metadata": {},
     "output_type": "display_data"
    },
    {
     "data": {
      "text/html": [
       "<pre style=\"white-space:pre;overflow-x:auto;line-height:normal;font-family:Menlo,'DejaVu Sans Mono',consolas,'Courier New',monospace\">Technical Support\n",
       "</pre>\n"
      ],
      "text/plain": [
       "Technical Support\n"
      ]
     },
     "metadata": {},
     "output_type": "display_data"
    },
    {
     "data": {
      "text/html": [
       "<pre style=\"white-space:pre;overflow-x:auto;line-height:normal;font-family:Menlo,'DejaVu Sans Mono',consolas,'Courier New',monospace\">General Inquiries\n",
       "</pre>\n"
      ],
      "text/plain": [
       "General Inquiries\n"
      ]
     },
     "metadata": {},
     "output_type": "display_data"
    },
    {
     "data": {
      "text/html": [
       "<pre style=\"white-space:pre;overflow-x:auto;line-height:normal;font-family:Menlo,'DejaVu Sans Mono',consolas,'Courier New',monospace\">  How the Company Makes Money: <span style=\"color: #008080; text-decoration-color: #008080; font-weight: bold\">1</span>\n",
       "</pre>\n"
      ],
      "text/plain": [
       "  How the Company Makes Money: \u001b[1;36m1\u001b[0m\n"
      ]
     },
     "metadata": {},
     "output_type": "display_data"
    },
    {
     "data": {
      "text/html": [
       "<pre style=\"white-space:pre;overflow-x:auto;line-height:normal;font-family:Menlo,'DejaVu Sans Mono',consolas,'Courier New',monospace\">Emotional/Urgent Cases\n",
       "</pre>\n"
      ],
      "text/plain": [
       "Emotional/Urgent Cases\n"
      ]
     },
     "metadata": {},
     "output_type": "display_data"
    },
    {
     "data": {
      "text/html": [
       "<pre style=\"white-space:pre;overflow-x:auto;line-height:normal;font-family:Menlo,'DejaVu Sans Mono',consolas,'Courier New',monospace\">  Urgent Fraud or Security Alert: <span style=\"color: #008080; text-decoration-color: #008080; font-weight: bold\">1</span>\n",
       "</pre>\n"
      ],
      "text/plain": [
       "  Urgent Fraud or Security Alert: \u001b[1;36m1\u001b[0m\n"
      ]
     },
     "metadata": {},
     "output_type": "display_data"
    }
   ],
   "source": [
    "category_to_subcategory = {}\n",
    "for category in categories:\n",
    "    category_to_subcategory[category] = []\n",
    "    for subcategory in categories[category]:\n",
    "        category_to_subcategory[category].append(categories[category][subcategory][\"title\"])\n",
    "\n",
    "\n",
    "subcategory_counter = Counter()\n",
    "for conversation in conversations:\n",
    "    subcategory_counter[conversation.subcategory] += 1\n",
    "\n",
    "subcategory_counter\n",
    "for category in category_to_subcategory:\n",
    "    print(category)\n",
    "    for subcategory in category_to_subcategory[category]:\n",
    "        if subcategory in subcategory_counter:\n",
    "            print(f\"  {subcategory}: {subcategory_counter[subcategory]}\")"
   ]
  },
  {
   "cell_type": "code",
   "execution_count": 24,
   "metadata": {},
   "outputs": [],
   "source": [
    "import os\n",
    "\n",
    "os.makedirs(\"./kura_data\", exist_ok=True)\n",
    "with open(\"./kura_data/synthetic_conversations.json\", \"w\") as f:\n",
    "    for conversation in conversations:\n",
    "        f.write(conversation.model_dump_json() + \"\\n\")\n"
   ]
  },
  {
   "cell_type": "markdown",
   "metadata": {},
   "source": [
    "Now let's generate 100 of these conversations, providing sample conversations from the same subcategory category combination as examples"
   ]
  },
  {
   "cell_type": "code",
   "execution_count": 43,
   "metadata": {},
   "outputs": [],
   "source": [
    "with open(\"./kura_data/synthetic_conversations.json\", \"r\") as f:\n",
    "    conversations = [Conversation.model_validate_json(line) for line in f]"
   ]
  },
  {
   "cell_type": "code",
   "execution_count": 50,
   "metadata": {},
   "outputs": [],
   "source": [
    "async def generate_conversation(client:instructor.AsyncInstructor,config:Config, examples:list[Conversation]):\n",
    "    valid_examples = [example for example in examples if example.subcategory == config.subcategory.title and example.category == config.category]\n",
    "    conversation = await client.chat.completions.create(\n",
    "        messages=[\n",
    "            {\n",
    "                \"role\":\"system\",\n",
    "                \"content\":\"\"\"\n",
    "                Generate a conversation between a customer and a BNPL service representative that covers the following category and subcategory:\n",
    "                Category: {{ config.category }}\n",
    "                Subcategory: {{ config.subcategory.title }}\n",
    "\n",
    "                Here are some examples of questions that the customer might ask:\n",
    "                {{ config.subcategory.sample_questions }}\n",
    "\n",
    "                make sure to start your conversation with an appropriate greeting by the assistant and then have the user start the conversation up with the questions. Simulate the conversation with a natural flow and make sure the user's question is resolved in the conversation.\n",
    "\n",
    "                Make sure to resolve the conversation in {{ num_messages }} messages and have the conversation end with the user's query being resolved or the user thanking the assistant and ending the conversation.\n",
    "\n",
    "                {% if examples | length > 0 %}\n",
    "                Here are some examples of conversations that cover the same category and subcategory. Use them as reference but do not copy the exact wording or structure of the conversation. Add extra details, use fake names, etc.\n",
    "                {% for example in examples %}\n",
    "                {{ example.messages | join(\"\\n\") }}\n",
    "                {% endfor %}\n",
    "                {% endif %}\n",
    "                \"\"\"\n",
    "            }\n",
    "        ],\n",
    "        context={\n",
    "            \"config\":config,\n",
    "            \"examples\":valid_examples,\n",
    "            \"num_messages\":random.randint(5,15)\n",
    "        },\n",
    "        response_model=GeneratedConversation,\n",
    "    )\n",
    "\n",
    "    return Conversation(\n",
    "        messages=conversation.conversation,\n",
    "        category=config.category,\n",
    "        subcategory=config.subcategory.title,\n",
    "    )"
   ]
  },
  {
   "cell_type": "code",
   "execution_count": 52,
   "metadata": {},
   "outputs": [
    {
     "data": {
      "text/html": [
       "<pre style=\"white-space:pre;overflow-x:auto;line-height:normal;font-family:Menlo,'DejaVu Sans Mono',consolas,'Courier New',monospace\"><span style=\"color: #800080; text-decoration-color: #800080; font-weight: bold\">Conversation</span><span style=\"font-weight: bold\">(</span>\n",
       "    <span style=\"color: #808000; text-decoration-color: #808000\">messages</span>=<span style=\"font-weight: bold\">[</span>\n",
       "        <span style=\"color: #800080; text-decoration-color: #800080; font-weight: bold\">Message</span><span style=\"font-weight: bold\">(</span>\n",
       "            <span style=\"color: #808000; text-decoration-color: #808000\">role</span>=<span style=\"color: #008000; text-decoration-color: #008000\">'assistant'</span>,\n",
       "            <span style=\"color: #808000; text-decoration-color: #808000\">content</span>=<span style=\"color: #008000; text-decoration-color: #008000\">'Hello! Thank you for reaching out to us. How can I assist you with Buy Now, Pay Later today?'</span>\n",
       "        <span style=\"font-weight: bold\">)</span>,\n",
       "        <span style=\"color: #800080; text-decoration-color: #800080; font-weight: bold\">Message</span><span style=\"font-weight: bold\">(</span><span style=\"color: #808000; text-decoration-color: #808000\">role</span>=<span style=\"color: #008000; text-decoration-color: #008000\">'user'</span>, <span style=\"color: #808000; text-decoration-color: #808000\">content</span>=<span style=\"color: #008000; text-decoration-color: #008000\">'Can you explain how Buy Now, Pay Later actually works?'</span><span style=\"font-weight: bold\">)</span>,\n",
       "        <span style=\"color: #800080; text-decoration-color: #800080; font-weight: bold\">Message</span><span style=\"font-weight: bold\">(</span>\n",
       "            <span style=\"color: #808000; text-decoration-color: #808000\">role</span>=<span style=\"color: #008000; text-decoration-color: #008000\">'assistant'</span>,\n",
       "            <span style=\"color: #808000; text-decoration-color: #808000\">content</span>=<span style=\"color: #008000; text-decoration-color: #008000\">'Certainly! Buy Now, Pay Later (BNPL) allows you to purchase items immediately and pay for them</span>\n",
       "<span style=\"color: #008000; text-decoration-color: #008000\">over time, usually in installments. Instead of paying the full amount upfront, you split the total cost into </span>\n",
       "<span style=\"color: #008000; text-decoration-color: #008000\">smaller payments made over weeks or months, often without interest if you pay on time.'</span>\n",
       "        <span style=\"font-weight: bold\">)</span>,\n",
       "        <span style=\"color: #800080; text-decoration-color: #800080; font-weight: bold\">Message</span><span style=\"font-weight: bold\">(</span>\n",
       "            <span style=\"color: #808000; text-decoration-color: #808000\">role</span>=<span style=\"color: #008000; text-decoration-color: #008000\">'user'</span>,\n",
       "            <span style=\"color: #808000; text-decoration-color: #808000\">content</span>=<span style=\"color: #008000; text-decoration-color: #008000\">\"Is this like a credit card or something different? What is 'Pay in 4' exactly?\"</span>\n",
       "        <span style=\"font-weight: bold\">)</span>,\n",
       "        <span style=\"color: #800080; text-decoration-color: #800080; font-weight: bold\">Message</span><span style=\"font-weight: bold\">(</span>\n",
       "            <span style=\"color: #808000; text-decoration-color: #808000\">role</span>=<span style=\"color: #008000; text-decoration-color: #008000\">'assistant'</span>,\n",
       "            <span style=\"color: #808000; text-decoration-color: #808000\">content</span>=<span style=\"color: #008000; text-decoration-color: #008000\">\"'Pay in 4' is a popular BNPL option where the total purchase amount is divided into four equal</span>\n",
       "<span style=\"color: #008000; text-decoration-color: #008000\">payments. You pay the first installment at checkout, and the remaining three payments are spread out over the next </span>\n",
       "<span style=\"color: #008000; text-decoration-color: #008000\">six weeks. Unlike a credit card, BNPL usually doesn't involve revolving credit or interest, as long as payments are</span>\n",
       "<span style=\"color: #008000; text-decoration-color: #008000\">made on time.\"</span>\n",
       "        <span style=\"font-weight: bold\">)</span>,\n",
       "        <span style=\"color: #800080; text-decoration-color: #800080; font-weight: bold\">Message</span><span style=\"font-weight: bold\">(</span>\n",
       "            <span style=\"color: #808000; text-decoration-color: #808000\">role</span>=<span style=\"color: #008000; text-decoration-color: #008000\">'user'</span>,\n",
       "            <span style=\"color: #808000; text-decoration-color: #808000\">content</span>=<span style=\"color: #008000; text-decoration-color: #008000\">'Is there any catch I should know about? How fast is approval for a first-time user?'</span>\n",
       "        <span style=\"font-weight: bold\">)</span>,\n",
       "        <span style=\"color: #800080; text-decoration-color: #800080; font-weight: bold\">Message</span><span style=\"font-weight: bold\">(</span>\n",
       "            <span style=\"color: #808000; text-decoration-color: #808000\">role</span>=<span style=\"color: #008000; text-decoration-color: #008000\">'assistant'</span>,\n",
       "            <span style=\"color: #808000; text-decoration-color: #808000\">content</span>=<span style=\"color: #008000; text-decoration-color: #008000\">\"Great questions! The catch is that if you miss payments, you may face late fees and it could </span>\n",
       "<span style=\"color: #008000; text-decoration-color: #008000\">affect your credit score. So it's important to pay on time. Approval is typically very fast, often instant for </span>\n",
       "<span style=\"color: #008000; text-decoration-color: #008000\">first-time users, with only a soft credit check that doesn’t impact your credit score. If you have any more </span>\n",
       "<span style=\"color: #008000; text-decoration-color: #008000\">questions, feel free to ask!\"</span>\n",
       "        <span style=\"font-weight: bold\">)</span>\n",
       "    <span style=\"font-weight: bold\">]</span>,\n",
       "    <span style=\"color: #808000; text-decoration-color: #808000\">category</span>=<span style=\"color: #008000; text-decoration-color: #008000\">'General Inquiries'</span>,\n",
       "    <span style=\"color: #808000; text-decoration-color: #808000\">subcategory</span>=<span style=\"color: #008000; text-decoration-color: #008000\">'How BNPL Works'</span>\n",
       "<span style=\"font-weight: bold\">)</span>\n",
       "</pre>\n"
      ],
      "text/plain": [
       "\u001b[1;35mConversation\u001b[0m\u001b[1m(\u001b[0m\n",
       "    \u001b[33mmessages\u001b[0m=\u001b[1m[\u001b[0m\n",
       "        \u001b[1;35mMessage\u001b[0m\u001b[1m(\u001b[0m\n",
       "            \u001b[33mrole\u001b[0m=\u001b[32m'assistant'\u001b[0m,\n",
       "            \u001b[33mcontent\u001b[0m=\u001b[32m'Hello! Thank you for reaching out to us. How can I assist you with Buy Now, Pay Later today?'\u001b[0m\n",
       "        \u001b[1m)\u001b[0m,\n",
       "        \u001b[1;35mMessage\u001b[0m\u001b[1m(\u001b[0m\u001b[33mrole\u001b[0m=\u001b[32m'user'\u001b[0m, \u001b[33mcontent\u001b[0m=\u001b[32m'Can you explain how Buy Now, Pay Later actually works?'\u001b[0m\u001b[1m)\u001b[0m,\n",
       "        \u001b[1;35mMessage\u001b[0m\u001b[1m(\u001b[0m\n",
       "            \u001b[33mrole\u001b[0m=\u001b[32m'assistant'\u001b[0m,\n",
       "            \u001b[33mcontent\u001b[0m=\u001b[32m'Certainly! Buy Now, Pay Later \u001b[0m\u001b[32m(\u001b[0m\u001b[32mBNPL\u001b[0m\u001b[32m)\u001b[0m\u001b[32m allows you to purchase items immediately and pay for them\u001b[0m\n",
       "\u001b[32mover time, usually in installments. Instead of paying the full amount upfront, you split the total cost into \u001b[0m\n",
       "\u001b[32msmaller payments made over weeks or months, often without interest if you pay on time.'\u001b[0m\n",
       "        \u001b[1m)\u001b[0m,\n",
       "        \u001b[1;35mMessage\u001b[0m\u001b[1m(\u001b[0m\n",
       "            \u001b[33mrole\u001b[0m=\u001b[32m'user'\u001b[0m,\n",
       "            \u001b[33mcontent\u001b[0m=\u001b[32m\"Is\u001b[0m\u001b[32m this like a credit card or something different? What is 'Pay in 4' exactly?\"\u001b[0m\n",
       "        \u001b[1m)\u001b[0m,\n",
       "        \u001b[1;35mMessage\u001b[0m\u001b[1m(\u001b[0m\n",
       "            \u001b[33mrole\u001b[0m=\u001b[32m'assistant'\u001b[0m,\n",
       "            \u001b[33mcontent\u001b[0m=\u001b[32m\"'Pay in 4' is a popular BNPL option where the total purchase amount is divided into four equal\u001b[0m\n",
       "\u001b[32mpayments. You pay the first installment at checkout, and the remaining three payments are spread out over the next \u001b[0m\n",
       "\u001b[32msix weeks. Unlike a credit card, BNPL usually doesn't involve revolving credit or interest, as long as payments are\u001b[0m\n",
       "\u001b[32mmade on time.\"\u001b[0m\n",
       "        \u001b[1m)\u001b[0m,\n",
       "        \u001b[1;35mMessage\u001b[0m\u001b[1m(\u001b[0m\n",
       "            \u001b[33mrole\u001b[0m=\u001b[32m'user'\u001b[0m,\n",
       "            \u001b[33mcontent\u001b[0m=\u001b[32m'Is there any catch I should know about? How fast is approval for a first-time user?'\u001b[0m\n",
       "        \u001b[1m)\u001b[0m,\n",
       "        \u001b[1;35mMessage\u001b[0m\u001b[1m(\u001b[0m\n",
       "            \u001b[33mrole\u001b[0m=\u001b[32m'assistant'\u001b[0m,\n",
       "            \u001b[33mcontent\u001b[0m=\u001b[32m\"Great\u001b[0m\u001b[32m questions! The catch is that if you miss payments, you may face late fees and it could \u001b[0m\n",
       "\u001b[32maffect your credit score. So it's important to pay on time. Approval is typically very fast, often instant for \u001b[0m\n",
       "\u001b[32mfirst-time users, with only a soft credit check that doesn’t impact your credit score. If you have any more \u001b[0m\n",
       "\u001b[32mquestions, feel free to ask!\"\u001b[0m\n",
       "        \u001b[1m)\u001b[0m\n",
       "    \u001b[1m]\u001b[0m,\n",
       "    \u001b[33mcategory\u001b[0m=\u001b[32m'General Inquiries'\u001b[0m,\n",
       "    \u001b[33msubcategory\u001b[0m=\u001b[32m'How BNPL Works'\u001b[0m\n",
       "\u001b[1m)\u001b[0m\n"
      ]
     },
     "metadata": {},
     "output_type": "display_data"
    }
   ],
   "source": [
    "print(await generate_conversation(client, Config.get_random_config(categories), conversations))"
   ]
  },
  {
   "cell_type": "markdown",
   "metadata": {},
   "source": [
    "Now let's run this and generate 150 conversations and we can see what kura returns. We'll generate 10 on each iteration and update our list of examples on each round"
   ]
  },
  {
   "cell_type": "code",
   "execution_count": 54,
   "metadata": {},
   "outputs": [
    {
     "name": "stderr",
     "output_type": "stream",
     "text": [
      "100%|██████████| 10/10 [00:16<00:00,  1.65s/it]\n",
      "100%|██████████| 10/10 [00:08<00:00,  1.13it/s]\n",
      "100%|██████████| 10/10 [00:10<00:00,  1.01s/it]\n",
      "100%|██████████| 10/10 [00:13<00:00,  1.30s/it]\n",
      "100%|██████████| 10/10 [00:20<00:00,  2.07s/it]\n",
      "100%|██████████| 10/10 [00:17<00:00,  1.75s/it]\n",
      "100%|██████████| 10/10 [00:14<00:00,  1.47s/it]\n",
      "100%|██████████| 10/10 [00:11<00:00,  1.17s/it]\n",
      "100%|██████████| 10/10 [00:17<00:00,  1.73s/it]\n",
      "100%|██████████| 10/10 [00:22<00:00,  2.25s/it]\n",
      "100%|██████████| 10/10 [00:26<00:00,  2.67s/it]\n",
      "100%|██████████| 10/10 [00:13<00:00,  1.40s/it]\n",
      "100%|██████████| 10/10 [00:10<00:00,  1.08s/it]\n",
      "100%|██████████| 10/10 [00:19<00:00,  1.91s/it]\n",
      "100%|██████████| 10/10 [00:13<00:00,  1.37s/it]\n"
     ]
    }
   ],
   "source": [
    "total_conversations = 150\n",
    "for i in range(total_conversations // 10):\n",
    "    with open(\"./kura_data/synthetic_conversations.json\", \"r\") as f:\n",
    "        examples = [Conversation.model_validate_json(line) for line in f]\n",
    "    coros = [generate_conversation(client, Config.get_random_config(categories), examples) for _ in range(10)]\n",
    "    conversations = await tqdm_asyncio.gather(*coros)\n",
    "    \n",
    "    with open(\"./kura_data/synthetic_conversations.json\", \"a\") as f:\n",
    "        for conversation in conversations:\n",
    "            f.write(conversation.model_dump_json() + \"\\n\")"
   ]
  },
  {
   "cell_type": "markdown",
   "metadata": {},
   "source": [
    "Generating Clusters"
   ]
  },
  {
   "cell_type": "code",
   "execution_count": 14,
   "metadata": {},
   "outputs": [],
   "source": [
    "from kura import Kura\n",
    "\n",
    "kura = Kura()"
   ]
  },
  {
   "cell_type": "code",
   "execution_count": 12,
   "metadata": {},
   "outputs": [],
   "source": [
    "from kura.types import Conversation as KuraConversation\n",
    "from datetime import timedelta, datetime\n",
    "import uuid\n",
    "import json\n",
    "\n",
    "def process_messages(row: Conversation):\n",
    "    return [\n",
    "        {\n",
    "            \"role\": message.role,\n",
    "            \"content\": message.content,\n",
    "            \"created_at\": datetime.now() + timedelta(minutes=5 * i),\n",
    "        }\n",
    "        for i, message in enumerate(row.messages)\n",
    "    ]\n",
    "\n",
    "conversations = [Conversation(**json.loads(row)) for row in open(\"./kura_data/synthetic_conversations.json\")]\n",
    "conversations = [\n",
    "    KuraConversation(\n",
    "        chat_id=str(uuid.uuid4()),\n",
    "        messages=process_messages(conversation),\n",
    "        created_at=datetime.now(),\n",
    "        metadata={\n",
    "            \"turns\": len(conversation.messages),\n",
    "            \"category\":conversation.category,\n",
    "            \"subcategory\":conversation.subcategory,\n",
    "        }\n",
    "    )\n",
    "    for conversation in conversations\n",
    "]"
   ]
  },
  {
   "cell_type": "code",
   "execution_count": 3,
   "metadata": {},
   "outputs": [
    {
     "name": "stdout",
     "output_type": "stream",
     "text": [
      "name='Ivan' age=27\n"
     ]
    }
   ],
   "source": [
    "import instructor\n",
    "from pydantic import BaseModel\n",
    "\n",
    "client = instructor.from_provider(\"google/gemini-2.0-flash\")\n",
    "\n",
    "class User(BaseModel):\n",
    "    name: str\n",
    "    age: int\n",
    "\n",
    "resp = client.chat.completions.create(\n",
    "    messages=[\n",
    "        {\n",
    "            \"role\":\"user\",\n",
    "            \"content\":\"Ivan is 27\"\n",
    "        }\n",
    "    ],\n",
    "    response_model=User\n",
    ")\n",
    "\n",
    "print(resp)\n",
    "\n"
   ]
  },
  {
   "cell_type": "code",
   "execution_count": 15,
   "metadata": {},
   "outputs": [
    {
     "name": "stderr",
     "output_type": "stream",
     "text": [
      "  0%|          | 0/2 [01:27<?, ?it/s]\n",
      "Task exception was never retrieved\n",
      "future: <Task finished name='Task-7' coro=<tqdm_asyncio.gather.<locals>.wrap_awaitable() done, defined at /Users/ivanleo/Documents/coding/systematically-improving-rag/cohort_2/.venv/lib/python3.9/site-packages/tqdm/asyncio.py:75> exception=TypeError(\"object GeneratedConversation can't be used in 'await' expression\")>\n",
      "Traceback (most recent call last):\n",
      "  File \"/Users/ivanleo/Documents/coding/systematically-improving-rag/cohort_2/.venv/lib/python3.9/site-packages/tqdm/asyncio.py\", line 76, in wrap_awaitable\n",
      "    return i, await f\n",
      "  File \"/var/folders/ws/q_m6c6qs3n553603dk_zvrgc0000gn/T/ipykernel_7695/1021393176.py\", line 2, in generate_conversation\n",
      "    conversation = await client.chat.completions.create(\n",
      "TypeError: object GeneratedConversation can't be used in 'await' expression\n",
      "Summarising 180 conversations: 100%|██████████| 180/180 [00:06<00:00, 28.76it/s]\n",
      "Embedding Summaries: 100%|██████████| 180/180 [00:10<00:00, 17.82it/s]\n",
      "Generating Base Clusters: 100%|██████████| 18/18 [00:01<00:00, 12.19it/s]\n"
     ]
    },
    {
     "name": "stdout",
     "output_type": "stream",
     "text": [
      "Starting with 18 clusters\n"
     ]
    },
    {
     "name": "stderr",
     "output_type": "stream",
     "text": [
      "Embedding Clusters: 100%|██████████| 18/18 [00:00<00:00, 18.93it/s]\n",
      "Generating Meta Clusters: 100%|██████████| 2/2 [00:04<00:00,  2.26s/it]\n"
     ]
    },
    {
     "name": "stdout",
     "output_type": "stream",
     "text": [
      "Reduced to 9 clusters\n"
     ]
    },
    {
     "name": "stderr",
     "output_type": "stream",
     "text": [
      "/Users/ivanleo/Documents/coding/systematically-improving-rag/cohort_2/.venv/lib/python3.9/site-packages/sklearn/utils/deprecation.py:151: FutureWarning: 'force_all_finite' was renamed to 'ensure_all_finite' in 1.6 and will be removed in 1.8.\n",
      "  warnings.warn(\n"
     ]
    },
    {
     "data": {
      "text/plain": [
       "[ProjectedCluster(id='04de04f64260462eb3ba51ac02d0a632', name='Troubleshoot crashing app; escalate to tech support', description='Users experienced app crashes or loading issues, seeking troubleshooting, reinstallation, and escalation to the tech team for resolution and updates', chat_ids=['b00fc2ae-9f3e-49a1-9681-dcd96e8dccf5', '6be7501a-4800-40d5-b7a4-c6a4f833bb2b', '1ea30058-e254-4142-ad91-9787ea330230', '146d107c-72b3-45b0-8055-af88115a5f5b', 'dc0679be-affc-4db8-8e2f-d76ea663c838', '1236ad71-219f-49cd-a526-fefc02247dd5', 'd12aee27-60c1-4209-825a-3f88431a8cc8', 'a31ecdc3-3140-444e-a13e-29188ebb467a'], parent_id=None, x_coord=11.178121566772461, y_coord=6.572209358215332, level=0, count=8),\n",
       " ProjectedCluster(id='f7f2454c36fc4ae9bb0d36630145d95c', name='Troubleshoot a crashing app and escalate to tech team', description='Users experienced an app that was crashing or stuck on the loading screen. They sought troubleshooting assistance, tried reinstalling the app, and requested escalation to the technical team for further support and quicker resolution, sometimes also inquiring about updates.', chat_ids=['b00fc2ae-9f3e-49a1-9681-dcd96e8dccf5', '6be7501a-4800-40d5-b7a4-c6a4f833bb2b', '1ea30058-e254-4142-ad91-9787ea330230', '146d107c-72b3-45b0-8055-af88115a5f5b', 'dc0679be-affc-4db8-8e2f-d76ea663c838', '1236ad71-219f-49cd-a526-fefc02247dd5', 'd12aee27-60c1-4209-825a-3f88431a8cc8', 'a31ecdc3-3140-444e-a13e-29188ebb467a'], parent_id='04de04f64260462eb3ba51ac02d0a632', x_coord=11.410282135009766, y_coord=6.781388759613037, level=1, count=8),\n",
       " ProjectedCluster(id='5dff6cd5306c49ddad1ecde31fdc6c84', name='Help me troubleshoot and secure my account', description='Users are experiencing issues with account access, including locked accounts, password resets, and potentially compromised accounts. They are seeking assistance with troubleshooting login problems, receiving one-time passcodes, securing their accounts, and implementing security measures like two-factor authentication and payment locking. ', chat_ids=['76cb9dc5-f341-455d-9bb7-73d8fe72db5b', '77b7ef16-c361-4178-b005-4f996a4a958d', 'a2c1c6a3-86a0-4de2-9e91-150a766eaa8b', '2ff7ca33-e74a-4c07-878c-bc38dc800f97', '0d41579d-bcd3-4837-bb35-cd6d67b0191e', '659a7af8-2f56-4269-9709-cf0e30feecea', 'caa1b570-f261-4f97-b54b-ec574857e3b1', 'e654f419-a4b8-4657-a465-13c3c36a2207', 'db61c2b1-29fd-4ae0-8fb0-b433ffc7af8b', '5c7fba0a-0a81-4233-9b46-39f995651403', '5a208a5c-9f34-4d6a-8a9a-e0013a5a442d', '3960422a-d56c-45a4-93b4-d7f0def8d24e', 'd5b9a396-149c-421a-bbab-8d45c33ef96b', '21cfd3e4-acd8-4e9e-bb3c-51fa9504b0d0', 'c19a6cb3-f8d4-49d9-99f4-6af3d47c00c0', '9a9ff289-46a9-4125-b270-3041a985d9ce'], parent_id=None, x_coord=10.892501831054688, y_coord=7.190229892730713, level=0, count=16),\n",
       " ProjectedCluster(id='117540d0dc3442f59f0796aee835383b', name='Troubleshoot locked account and password resets', description='The user encountered issues logging into their account, including locked accounts and problems with verification codes. They sought assistance with password reset issues and manual password resets when automatic methods failed. ', chat_ids=['76cb9dc5-f341-455d-9bb7-73d8fe72db5b', '77b7ef16-c361-4178-b005-4f996a4a958d', 'a2c1c6a3-86a0-4de2-9e91-150a766eaa8b'], parent_id='5dff6cd5306c49ddad1ecde31fdc6c84', x_coord=10.54355525970459, y_coord=7.2295098304748535, level=1, count=3),\n",
       " ProjectedCluster(id='16f4f681e9ba49368f0e2ab294631726', name='Troubleshoot and receive one-time passcodes via alternative methods.', description='The user had trouble receiving a one-time passcode via SMS. They requested assistance to troubleshoot the issue and receive the passcode through an alternative method, such as email, instead of SMS after troubleshooting steps were unsuccessful. ', chat_ids=['2ff7ca33-e74a-4c07-878c-bc38dc800f97', '0d41579d-bcd3-4837-bb35-cd6d67b0191e', '659a7af8-2f56-4269-9709-cf0e30feecea', 'caa1b570-f261-4f97-b54b-ec574857e3b1', 'e654f419-a4b8-4657-a465-13c3c36a2207', 'db61c2b1-29fd-4ae0-8fb0-b433ffc7af8b'], parent_id='5dff6cd5306c49ddad1ecde31fdc6c84', x_coord=10.645966529846191, y_coord=6.774907112121582, level=1, count=6),\n",
       " ProjectedCluster(id='517afd75400245f9b329da859ada67e1', name='Secure a potentially compromised account immediately', description=\"The user reported a potentially compromised account and requested immediate assistance. The user's requests included changing the password, locking payments, removing saved cards, and enabling two-factor authentication, and requested to be notified when the account was secure again\", chat_ids=['5c7fba0a-0a81-4233-9b46-39f995651403', '5a208a5c-9f34-4d6a-8a9a-e0013a5a442d', '3960422a-d56c-45a4-93b4-d7f0def8d24e', 'd5b9a396-149c-421a-bbab-8d45c33ef96b', '21cfd3e4-acd8-4e9e-bb3c-51fa9504b0d0', 'c19a6cb3-f8d4-49d9-99f4-6af3d47c00c0', '9a9ff289-46a9-4125-b270-3041a985d9ce'], parent_id='5dff6cd5306c49ddad1ecde31fdc6c84', x_coord=11.256031036376953, y_coord=7.402429580688477, level=1, count=7),\n",
       " ProjectedCluster(id='c0d8882d7910460d8415c4f383e52854', name='Manage Buy Now, Pay Later Payment Options', description='Users want to manage payment methods, schedules, and dates for buy now, pay later services, including updating cards, changing payment dates, and understanding fees and policies. ', chat_ids=['98e8149e-1cf2-496d-883b-50a965686371', 'c2927674-a796-4ab8-b6ed-c4af2861292f', '5b5a3522-d37b-4202-bdfe-8de77b05de84', 'bc349856-521e-43bc-9354-a7bec329cc75', '185372b4-6111-45be-ba74-9da5ce4c2852', 'e4843f2d-43ba-49cf-a7b3-6852f2dd23d0', '003f6652-1c2e-4c15-bb14-7a7bfe9fd2d8', '1ed5fffb-9119-4c6f-8df2-3b241706f354', '3153c220-c339-4ae2-b773-0b3679a676d3', '04a515bc-8860-423d-84e8-6bc3f8c53844', '6727887b-b463-4c0f-ab2f-1c9c1e3294bf', 'b8cf49c8-d3f2-4317-a03d-6e2bf8dedc4e', 'bd5e7e76-c7bf-41c5-8754-0f9e8f9ffd16', '476aee66-ab32-4cee-833d-1b648a25fef8', '0f2e0d72-7136-47d5-817c-ab686b930b36'], parent_id=None, x_coord=10.134140968322754, y_coord=10.79900074005127, level=0, count=15),\n",
       " ProjectedCluster(id='0cc7d14f0a084e14a2b723f5288b1364', name='Inquire about Payment Schedules and Payment Date Changes', description='The user inquired about payment schedules, due dates, and potential fees. They also requested to change their payment date, enable SMS reminders, and understand grace periods or extension policies. ', chat_ids=['98e8149e-1cf2-496d-883b-50a965686371', 'c2927674-a796-4ab8-b6ed-c4af2861292f', '5b5a3522-d37b-4202-bdfe-8de77b05de84', 'bc349856-521e-43bc-9354-a7bec329cc75', '185372b4-6111-45be-ba74-9da5ce4c2852', 'e4843f2d-43ba-49cf-a7b3-6852f2dd23d0', '003f6652-1c2e-4c15-bb14-7a7bfe9fd2d8'], parent_id='c0d8882d7910460d8415c4f383e52854', x_coord=11.120838165283203, y_coord=9.19824504852295, level=1, count=7),\n",
       " ProjectedCluster(id='5ae2e88bd41046d081091fc343835bbc', name='Manage payment methods for a buy now, pay later service.', description='Users requested assistance with managing payment methods for a buy now, pay later service. This included replacing expired cards, switching to bank accounts, and understanding the implications for automatic payments and installment splitting, as well as lost cards and payment failures..', chat_ids=['1ed5fffb-9119-4c6f-8df2-3b241706f354', '3153c220-c339-4ae2-b773-0b3679a676d3', '04a515bc-8860-423d-84e8-6bc3f8c53844', '6727887b-b463-4c0f-ab2f-1c9c1e3294bf', 'b8cf49c8-d3f2-4317-a03d-6e2bf8dedc4e', 'bd5e7e76-c7bf-41c5-8754-0f9e8f9ffd16', '476aee66-ab32-4cee-833d-1b648a25fef8', '0f2e0d72-7136-47d5-817c-ab686b930b36'], parent_id='c0d8882d7910460d8415c4f383e52854', x_coord=10.496374130249023, y_coord=11.04364013671875, level=1, count=8),\n",
       " ProjectedCluster(id='79115cf6094e4fd5a0c1f68d490e7d9d', name='Troubleshoot buy now, pay later order and payment issues', description='Users are having issues with buy now, pay later services, including failed checkouts, declined orders, late packages and payment problems. They are seeking assistance with troubleshooting, locating packages and understanding payment obligations', chat_ids=['5cb28494-8ef2-44e5-b430-c959332f9ab4', '86f31336-ef9b-4aef-a7f6-ad7335ad96c1', 'fabdcf84-e5fe-4a14-bd28-03019736de9d', '4efad629-361e-4e69-bbdd-69cd49112d3f', 'f4b3db94-b1db-452b-a0ad-1843923a64c7', '10a07065-c3a2-42ee-9c49-261ef4738d39', '0c79c167-3a19-43b3-ae7c-badcbb851287', '40bbbcb3-b9e7-49c3-a838-7fb96204e4ff', 'f5d879d2-b690-4acf-b493-77089e6f96c1', '88a52671-351c-487a-8e41-d1a1643f9b8f', 'c8a9560e-1d5d-4ee9-a90a-01b93765db88', '4a282661-9d4d-4963-b0e1-b49444e48177', 'f91fe4ac-3a35-417d-8b92-8faf8950843a', '75212f29-7644-4bf9-a9c7-66079407a411', 'a7e5ecfa-96ef-44d9-b43f-4611be230621', 'a43614db-2867-4aba-b0c6-0b33aea01288'], parent_id=None, x_coord=10.160063743591309, y_coord=9.519258499145508, level=0, count=16),\n",
       " ProjectedCluster(id='ed3f4ad0e175488ba9111bdb08f3b3db', name='Troubleshoot issues with BNPL orders and payments', description='Users encountered problems with declined BNPL orders, late packages, or payments. They sought assistance to troubleshoot declines, locate packages, understand payment obligations, and check their account status related to BNPL services. ', chat_ids=['5cb28494-8ef2-44e5-b430-c959332f9ab4', '86f31336-ef9b-4aef-a7f6-ad7335ad96c1', 'fabdcf84-e5fe-4a14-bd28-03019736de9d', '4efad629-361e-4e69-bbdd-69cd49112d3f', 'f4b3db94-b1db-452b-a0ad-1843923a64c7', '10a07065-c3a2-42ee-9c49-261ef4738d39', '0c79c167-3a19-43b3-ae7c-badcbb851287', '40bbbcb3-b9e7-49c3-a838-7fb96204e4ff', 'f5d879d2-b690-4acf-b493-77089e6f96c1', '88a52671-351c-487a-8e41-d1a1643f9b8f'], parent_id='79115cf6094e4fd5a0c1f68d490e7d9d', x_coord=10.564292907714844, y_coord=9.614216804504395, level=1, count=10),\n",
       " ProjectedCluster(id='2ce0ee3ed3ef42f9a9b1da76f3e39601', name='Troubleshoot buy now pay later checkout failures', description='The user experienced a checkout failure with a buy now pay later service, often accompanied by a 503 error. They sought troubleshooting steps, including clearing the cache, and inquired about potential cart loss upon retrying the checkout process. ', chat_ids=['c8a9560e-1d5d-4ee9-a90a-01b93765db88', '4a282661-9d4d-4963-b0e1-b49444e48177', 'f91fe4ac-3a35-417d-8b92-8faf8950843a', '75212f29-7644-4bf9-a9c7-66079407a411', 'a7e5ecfa-96ef-44d9-b43f-4611be230621', 'a43614db-2867-4aba-b0c6-0b33aea01288'], parent_id='79115cf6094e4fd5a0c1f68d490e7d9d', x_coord=9.872241020202637, y_coord=9.50896167755127, level=1, count=6),\n",
       " ProjectedCluster(id='a148b5a6b3f0408d99dcbd2136508a09', name='Determine eligibility and raise limits for buy now, pay later services.', description='The cluster includes questions about eligibility requirements and how to increase spending limits for buy now, pay later services. The questions covered topics such as credit score requirements, payment methods, the need for a social security number, automatic increases, manual reviews, and the impact of early payments on their limit', chat_ids=['7dd78a97-a13a-41ed-8940-3cdcfd4db6ef', '00bc6a15-f251-410d-a835-8ff8e64ee99e', '40312ed6-0b7a-48ea-8b64-a8403d843ea3', '569d63b1-a517-4e67-9f16-a6984c6a6966', '9d9cfeef-419d-4c62-9cca-c31371ec61ef', '7268a649-bcf0-48e2-8c7d-966bb4c4aad5', '4bc35f86-6bbb-47a5-a77b-127fed227dde', '76f68ba1-342f-4f00-981e-20842b466359', '0132c1e0-d0db-4c6c-8ea9-3a27c2edf48c', 'fd7f5125-8f7e-47ff-987e-25fbeb2f6416', 'a8c3bd55-7ccd-4a52-bc1f-48f1e871cdc0', 'b10adb1a-2e4d-4517-b364-34dcd0a55779', '20aae10c-ea68-4286-8adc-7ec6e39eceb3', '0b8eed98-c405-4a08-b47b-59479fbd869a'], parent_id=None, x_coord=9.779273986816406, y_coord=10.476720809936523, level=0, count=14),\n",
       " ProjectedCluster(id='5a1560e7a9c041f98830b1ccc25f8d4d', name='Answer questions about BNPL service eligibility', description='The users asked questions about the eligibility requirements for a buy now pay later (BNPL) service. The questions covered topics such as credit score requirements, payment methods, and the need for a social security number. ', chat_ids=['7dd78a97-a13a-41ed-8940-3cdcfd4db6ef', '00bc6a15-f251-410d-a835-8ff8e64ee99e', '40312ed6-0b7a-48ea-8b64-a8403d843ea3', '569d63b1-a517-4e67-9f16-a6984c6a6966', '9d9cfeef-419d-4c62-9cca-c31371ec61ef', '7268a649-bcf0-48e2-8c7d-966bb4c4aad5', '4bc35f86-6bbb-47a5-a77b-127fed227dde'], parent_id='a148b5a6b3f0408d99dcbd2136508a09', x_coord=10.574414253234863, y_coord=10.196675300598145, level=1, count=7),\n",
       " ProjectedCluster(id='58280e2933ee488e878b9f3a999c44b2', name='Explain how to increase my spending limit.', description='The users wanted to know how to increase their spending limit on a buy now, pay later service. They inquired about automatic increases, manual reviews, and the impact of early payments on their limit. ', chat_ids=['76f68ba1-342f-4f00-981e-20842b466359', '0132c1e0-d0db-4c6c-8ea9-3a27c2edf48c', 'fd7f5125-8f7e-47ff-987e-25fbeb2f6416', 'a8c3bd55-7ccd-4a52-bc1f-48f1e871cdc0', 'b10adb1a-2e4d-4517-b364-34dcd0a55779', '20aae10c-ea68-4286-8adc-7ec6e39eceb3', '0b8eed98-c405-4a08-b47b-59479fbd869a'], parent_id='a148b5a6b3f0408d99dcbd2136508a09', x_coord=9.52777099609375, y_coord=10.049701690673828, level=1, count=7),\n",
       " ProjectedCluster(id='963e354850804922b10c2e4ae08c7134', name='Report fraud and freeze the compromised account', description='The user reported unauthorized charges and requested their account be frozen and inquired about liability for the fraudulent charges', chat_ids=['8fa7eeb4-a495-4d62-8340-ccffaaad0e58', '856cf3b2-6803-4b8b-b16a-0ded9ac5e993', '7e7bfba2-df1c-4516-b1c2-e1eee1aa5e77', '3ef64d5d-a80e-4231-99b5-047ed671d913', '50fef985-52a9-43d6-8f42-3ee8d4615433', '6c5b5085-7185-4e5c-b146-39cd71529d28', 'c30343a0-1aaf-4a38-804b-74b6812dfc0f', '87b366c7-fd36-449d-8080-148819b11c61', '964f70d3-a90a-4b54-b075-b4660efb93b3', 'e1c66a62-4f2c-4b46-b0e5-b8c25baeb826', '398a69d8-727c-43d6-846d-9a0bb5b46209', '830e09e3-4400-470c-8a26-1c25f4aaa3ef', '83b4d97a-f308-4fe7-9cb7-11d61117960d', 'da319b9b-4d87-4572-aa68-111d3da48aac', '3f47864b-3402-4e1f-80d4-78441aa67c29', '1a8b91b8-aaf4-498b-b717-48f07d82c68a', 'f75ac2fd-fdad-4eec-8569-95302593d25e', '272ba070-4112-45f4-9218-d45e3ec1fe26'], parent_id=None, x_coord=11.706971168518066, y_coord=7.758765697479248, level=0, count=18),\n",
       " ProjectedCluster(id='d6854f09d3e24a69afab8298d4158183', name='Report fraud, freeze account, and inquire about liability', description='The user reported unauthorized charges and requested their account be frozen. They also inquired about liability for the fraudulent charges and sought updates on the investigation.', chat_ids=['8fa7eeb4-a495-4d62-8340-ccffaaad0e58', '856cf3b2-6803-4b8b-b16a-0ded9ac5e993', '7e7bfba2-df1c-4516-b1c2-e1eee1aa5e77', '3ef64d5d-a80e-4231-99b5-047ed671d913', '50fef985-52a9-43d6-8f42-3ee8d4615433', '6c5b5085-7185-4e5c-b146-39cd71529d28', 'c30343a0-1aaf-4a38-804b-74b6812dfc0f', '87b366c7-fd36-449d-8080-148819b11c61', '964f70d3-a90a-4b54-b075-b4660efb93b3', 'e1c66a62-4f2c-4b46-b0e5-b8c25baeb826', '398a69d8-727c-43d6-846d-9a0bb5b46209', '830e09e3-4400-470c-8a26-1c25f4aaa3ef', '83b4d97a-f308-4fe7-9cb7-11d61117960d', 'da319b9b-4d87-4572-aa68-111d3da48aac', '3f47864b-3402-4e1f-80d4-78441aa67c29', '1a8b91b8-aaf4-498b-b717-48f07d82c68a', 'f75ac2fd-fdad-4eec-8569-95302593d25e', '272ba070-4112-45f4-9218-d45e3ec1fe26'], parent_id='963e354850804922b10c2e4ae08c7134', x_coord=11.383516311645508, y_coord=7.986912250518799, level=1, count=18),\n",
       " ProjectedCluster(id='ac1c9a784457443c863ac5592fad4320', name='Explain buy now pay later services and payment plans', description='The cluster involves explaining how buy now, pay later services work, including signup, credit impact, fees, payment plans, and early payment options. ', chat_ids=['996ce3ea-5786-49b6-bd13-960bffd185a8', 'da45fbb7-d94c-4058-96e5-82f9fbb251a1', '9cdd37fa-fd58-4bfd-a7b9-0bf4a995d418', 'bb8046a3-d74f-4876-a6d3-0cd8a33c6a5c', '3b972643-f662-4f23-be65-515390118e4d', '1f8ff5bc-88bb-40d9-9692-149d50e81587', '4d541908-6704-47d0-b724-ff817ade6e13', 'cd0c98be-5cc0-427b-a780-e0450df8a14a', '697ce40e-519c-4d2b-841f-943a90f03eae', '3c7d65d9-6150-49ee-a3cd-afc378a2d2e8', 'a4e72681-d79f-44d7-9b6d-2b11629611b5', '1e7c2c3e-42e2-4d8f-a9cf-565000cd68fa', '01a12198-bafe-4939-8559-0befca5a6721', '9a3bc3e2-cc4e-4eae-9153-82d034736470', '841b8d89-2d0d-4938-a341-ff7581b63b08', '9e4db290-abea-4852-be62-9744b4e08df2', 'e6162125-3d74-4259-a0c9-c5767b2b42a4', '9ffcbfbe-9987-4158-9744-250d9f32c161', '0aad3ba5-edac-42a9-a48f-0c0d09e7105f', '3dd54021-65f7-4c7b-a9e3-3418d6e0cd20', '255a0c19-9543-45d7-aa36-cb7445533801', '58353042-10b4-4740-9127-ca91b2f0ee4f', 'cae6db8d-1730-4fe0-966d-ebb1f56dba13', '98f49fbb-942e-47f4-a692-9c0936565e08', '523af4b1-fbc0-4fbd-8179-76e8885309f8', 'c9cacc1f-c6f2-4df6-8333-300e9fe89668', '0cfa12a7-87ab-426e-af6a-888c50d1fb3a', 'a7d4788a-3c90-46f1-aab7-f87b8bea097a', '475d3a82-efef-42e4-830c-45cf54d06367', '956ad48e-6a3c-4448-9607-5443e9c0d2cd', 'e0b64ec3-06b4-4abb-8c8b-a7f982705cc4', 'd104d526-a055-4743-91f3-f6dfe1d043a2', '2e736d5d-6984-4581-9db5-b748004fd499', '812a42e2-9940-4a67-97f4-03e00754612c', '0cfe7645-ba00-4394-b118-0c2704e17f71', '48272f6e-b939-4a43-b741-7c58bf206b3e', 'fab49ea4-3f2d-4baa-8033-0cfde7d21cb5', 'de125ef0-d2f0-4c45-a2be-023a00f61047'], parent_id=None, x_coord=10.30240535736084, y_coord=10.379622459411621, level=0, count=38),\n",
       " ProjectedCluster(id='5a355f13ea6d4612ab16fd891da080dd', name='Explain how a Buy Now, Pay Later service works.', description='The users requested explanations about Buy Now, Pay Later services. The requests included details on how the services work, signup processes, impact on credit, and comparisons to credit cards, often focusing on fees, interest, and potential drawbacks.', chat_ids=['996ce3ea-5786-49b6-bd13-960bffd185a8', 'da45fbb7-d94c-4058-96e5-82f9fbb251a1', '9cdd37fa-fd58-4bfd-a7b9-0bf4a995d418', 'bb8046a3-d74f-4876-a6d3-0cd8a33c6a5c', '3b972643-f662-4f23-be65-515390118e4d', '1f8ff5bc-88bb-40d9-9692-149d50e81587', '4d541908-6704-47d0-b724-ff817ade6e13', 'cd0c98be-5cc0-427b-a780-e0450df8a14a', '697ce40e-519c-4d2b-841f-943a90f03eae', '3c7d65d9-6150-49ee-a3cd-afc378a2d2e8', 'a4e72681-d79f-44d7-9b6d-2b11629611b5', '1e7c2c3e-42e2-4d8f-a9cf-565000cd68fa'], parent_id='ac1c9a784457443c863ac5592fad4320', x_coord=10.830169677734375, y_coord=10.692537307739258, level=1, count=12),\n",
       " ProjectedCluster(id='47902504b45f448d8d6b96a122cbfc78', name='Answer questions about buy now pay later service fees and payment.', description='Users inquired about the fees, revenue models, payment plans, and store availability associated with buy now pay later services. They also asked about early payment options and potential savings related to those services. ', chat_ids=['01a12198-bafe-4939-8559-0befca5a6721', '9a3bc3e2-cc4e-4eae-9153-82d034736470', '841b8d89-2d0d-4938-a341-ff7581b63b08', '9e4db290-abea-4852-be62-9744b4e08df2', 'e6162125-3d74-4259-a0c9-c5767b2b42a4', '9ffcbfbe-9987-4158-9744-250d9f32c161', '0aad3ba5-edac-42a9-a48f-0c0d09e7105f', '3dd54021-65f7-4c7b-a9e3-3418d6e0cd20', '255a0c19-9543-45d7-aa36-cb7445533801', '58353042-10b4-4740-9127-ca91b2f0ee4f', 'cae6db8d-1730-4fe0-966d-ebb1f56dba13', '98f49fbb-942e-47f4-a692-9c0936565e08', '523af4b1-fbc0-4fbd-8179-76e8885309f8', 'c9cacc1f-c6f2-4df6-8333-300e9fe89668', '0cfa12a7-87ab-426e-af6a-888c50d1fb3a', 'a7d4788a-3c90-46f1-aab7-f87b8bea097a', '475d3a82-efef-42e4-830c-45cf54d06367', '956ad48e-6a3c-4448-9607-5443e9c0d2cd', 'e0b64ec3-06b4-4abb-8c8b-a7f982705cc4', 'd104d526-a055-4743-91f3-f6dfe1d043a2', '2e736d5d-6984-4581-9db5-b748004fd499', '812a42e2-9940-4a67-97f4-03e00754612c', '0cfe7645-ba00-4394-b118-0c2704e17f71', '48272f6e-b939-4a43-b741-7c58bf206b3e', 'fab49ea4-3f2d-4baa-8033-0cfde7d21cb5', 'de125ef0-d2f0-4c45-a2be-023a00f61047'], parent_id='ac1c9a784457443c863ac5592fad4320', x_coord=11.039101600646973, y_coord=10.30420970916748, level=1, count=26),\n",
       " ProjectedCluster(id='2cb7ec7e4a0346b8b0201a3751755123', name='Resolve issues with payments, refunds, and disputes.', description='The cluster includes inquiries about refunds, late payments, disputes for non-delivery, and credit restoration after cancellation. Users also sought information on dispute processes, late fee waivers, and actions to take if items never arrive or cancellation confirmations are not received. ', chat_ids=['6e7ece45-373d-48e1-ae91-b80f82b32aeb', '1fb8e02c-d3ff-466c-8cc1-4eac1c7c2408', 'fe2d9c55-6fd4-4863-af7f-8766adea5d70', 'bfc6d2c1-84fe-4ff4-9103-70e4a34aa04a', '4c173270-343e-455d-9719-b2613765f6dc', '7bb357f1-5155-4aa0-a8dd-d0235ddaa16f', 'f761cb11-c548-4549-b4e6-0facdf84bacf', 'c2c3c427-d39f-44ab-8344-68f6296da4ce', 'c4a5aeb7-f88c-46ba-b14c-3dc0e8a5b90f', '74825a6a-7a00-4913-a510-745d244f3d1f', '04015923-ddb1-4e9b-8c75-5c53cd2f0492', '99b4ab90-95cd-411d-95b9-cf4d80853be0', '5c710c2d-62b4-4080-938b-08283e43ad10', '8ce8f3d1-0645-43c6-b77d-3cfc661dd072', 'f889c14d-9cec-4824-be65-a8729cda584f', '19d92dce-1acf-49ef-ab8d-857dcf58177a', 'a17a26e1-ad8f-47b4-b8e7-2a24be031409', 'c51c2bf0-e4f1-4d7d-81a9-35e7dc9ca887', '3808f5cc-63bb-4f46-b0e5-89c834613bf5', '870b3add-de2f-404c-a879-f46818f885fc', '3d895f9c-df8c-4271-a519-d39307e427d2', '2fcf2410-7ca8-43dc-ac50-717cb773254d', '7e4a957b-7d50-417c-89bd-2f3cc9503e62', '28a526eb-71d7-4e65-aa6e-8cc17ed76ecc', '29c180c2-66c6-4b38-837e-4f2d4c115b40', '3f4e0436-08a5-421d-8fc6-8411121f7603', '261a4277-0a88-47f4-98e6-c644746f38ab', '840051b2-cfbd-4afd-8fc8-58ca5855a476', '46475666-4005-4d2c-9343-34e01a947ff2', 'cd7afe8b-7bb6-4274-a167-67968a4f653b', '10f65a49-5fb7-4b6d-b5f1-1117df854f62', 'd5c685dd-4148-4305-9834-1ebc7dc17b84', '6f274d33-765c-485d-abf1-aa2dd3c8b5c9', '8802fe9f-097a-4c1c-8f4e-8d5d30ad06a3', '401121b3-226d-4bfa-8cd4-7671f7e0c706', '90badcae-2e04-4429-9b74-0d59f66c9aa4', '534f3db5-27e5-4194-9656-0ae5fd345c11', '1d39ae3e-1c06-48e5-8325-52c856e1ea43', '7f38bcaa-775d-434a-8544-9578bc84df31', 'c31cec2e-c0c9-4049-9c91-150e926d8463', 'fbdb4216-aeb5-45c5-8714-67f22a28b5e6', 'b2021569-0a27-4a18-b015-1040a796b997'], parent_id=None, x_coord=12.075753211975098, y_coord=9.286738395690918, level=0, count=42),\n",
       " ProjectedCluster(id='01dd9bacf22c470390cd4613711e8291', name='Inquire about refunds, payments, and late packages', description='The user inquired about the status of refunds for returned or late items, including payment suspensions and processing times. They also asked about partial refunds, late fees, and actions to take if an item never arrives.', chat_ids=['6e7ece45-373d-48e1-ae91-b80f82b32aeb', '1fb8e02c-d3ff-466c-8cc1-4eac1c7c2408', 'fe2d9c55-6fd4-4863-af7f-8766adea5d70', 'bfc6d2c1-84fe-4ff4-9103-70e4a34aa04a', '4c173270-343e-455d-9719-b2613765f6dc', '7bb357f1-5155-4aa0-a8dd-d0235ddaa16f', 'f761cb11-c548-4549-b4e6-0facdf84bacf', 'c2c3c427-d39f-44ab-8344-68f6296da4ce', 'c4a5aeb7-f88c-46ba-b14c-3dc0e8a5b90f', '74825a6a-7a00-4913-a510-745d244f3d1f', '04015923-ddb1-4e9b-8c75-5c53cd2f0492', '99b4ab90-95cd-411d-95b9-cf4d80853be0', '5c710c2d-62b4-4080-938b-08283e43ad10'], parent_id='2cb7ec7e4a0346b8b0201a3751755123', x_coord=11.675375938415527, y_coord=9.216816902160645, level=1, count=13),\n",
       " ProjectedCluster(id='eef54b75d63f408583a3bb79357cb0ff', name='Inquire about opening a dispute for non-delivery.', description='The users inquired about opening disputes for non-delivery of purchased items. They also sought information on the dispute process, including providing proof, pausing installments, tracking the dispute status, and potential outcomes if the merchant does not respond. ', chat_ids=['8ce8f3d1-0645-43c6-b77d-3cfc661dd072', 'f889c14d-9cec-4824-be65-a8729cda584f', '19d92dce-1acf-49ef-ab8d-857dcf58177a', 'a17a26e1-ad8f-47b4-b8e7-2a24be031409', 'c51c2bf0-e4f1-4d7d-81a9-35e7dc9ca887', '3808f5cc-63bb-4f46-b0e5-89c834613bf5', '870b3add-de2f-404c-a879-f46818f885fc', '3d895f9c-df8c-4271-a519-d39307e427d2'], parent_id='2cb7ec7e4a0346b8b0201a3751755123', x_coord=11.572787284851074, y_coord=8.773695945739746, level=1, count=8),\n",
       " ProjectedCluster(id='c8f13d6a29f84aa390af2f988b431ac9', name='Inquire about and dispute late payment fees', description='Users inquired about late payment fees, grace periods, and accumulation policies related to a buy now, pay later service. They often disputed charges, sought waivers, and provided proof of on-time payment in an effort to remove the fees. ', chat_ids=['2fcf2410-7ca8-43dc-ac50-717cb773254d', '7e4a957b-7d50-417c-89bd-2f3cc9503e62', '28a526eb-71d7-4e65-aa6e-8cc17ed76ecc', '29c180c2-66c6-4b38-837e-4f2d4c115b40', '3f4e0436-08a5-421d-8fc6-8411121f7603', '261a4277-0a88-47f4-98e6-c644746f38ab', '840051b2-cfbd-4afd-8fc8-58ca5855a476', '46475666-4005-4d2c-9343-34e01a947ff2', 'cd7afe8b-7bb6-4274-a167-67968a4f653b', '10f65a49-5fb7-4b6d-b5f1-1117df854f62', 'd5c685dd-4148-4305-9834-1ebc7dc17b84'], parent_id='2cb7ec7e4a0346b8b0201a3751755123', x_coord=11.465414047241211, y_coord=9.796080589294434, level=1, count=11),\n",
       " ProjectedCluster(id='1f73736773354e18b31062fd4511f00a', name='Explain refund, installment removal, and credit restoration after cancellation', description='The user inquired about the process of refunds, installment removal, and credit restoration following a purchase cancellation. They also sought information on reusing their credit and actions to take if cancellation confirmations were not received. ', chat_ids=['6f274d33-765c-485d-abf1-aa2dd3c8b5c9', '8802fe9f-097a-4c1c-8f4e-8d5d30ad06a3', '401121b3-226d-4bfa-8cd4-7671f7e0c706', '90badcae-2e04-4429-9b74-0d59f66c9aa4', '534f3db5-27e5-4194-9656-0ae5fd345c11', '1d39ae3e-1c06-48e5-8325-52c856e1ea43', '7f38bcaa-775d-434a-8544-9578bc84df31', 'c31cec2e-c0c9-4049-9c91-150e926d8463', 'fbdb4216-aeb5-45c5-8714-67f22a28b5e6', 'b2021569-0a27-4a18-b015-1040a796b997'], parent_id='2cb7ec7e4a0346b8b0201a3751755123', x_coord=12.051005363464355, y_coord=8.830625534057617, level=1, count=10),\n",
       " ProjectedCluster(id='c97a2498fef74767b40a26cffccc3784', name='Inquire about payment assistance and hardship programs', description='Users inquired about options when unable to make payments, such as hardship programs and payment plans. They also sought information on enrollment processes, impacts on credit scores, and terms like late fee waivers and repayment pauses. ', chat_ids=['b000f9d3-3477-45fc-8ddb-849724aeb44f', '88b27a49-0716-42ba-b638-1d3fff495604', '18be7590-3578-446b-9955-2f4b38b37b8c', '82c38c8e-3d3d-4533-937e-04ddeb1158ab', 'a813004b-c145-47ef-965e-058d82f1a280', '41f71fe6-749b-44a7-9218-33851431f46f', '6e1aef5e-0546-44f3-8c90-839c4ad5c47b', '080d7f6d-b046-4c84-a92e-958f64e0f9a1', '12d36af5-2a05-43da-9d65-a2dae1766ad3', '44366085-b5ff-410e-8c95-237950d40969', '2da67267-30db-4bba-8549-a7867722f35c', 'f06f3572-1ad5-4287-a052-c31ebef1be0c', '997c609f-c28a-44b2-ab04-3c53cc85984a'], parent_id=None, x_coord=11.119538307189941, y_coord=8.71979808807373, level=0, count=13),\n",
       " ProjectedCluster(id='218cb51149414c85a5b8b6057522b898', name='Ask about payment assistance due to inability to pay', description='Users inquired about options when unable to make payments, such as hardship programs and payment plans. They also sought information on enrollment processes, impacts on credit scores, and terms like late fee waivers and repayment pauses. ', chat_ids=['b000f9d3-3477-45fc-8ddb-849724aeb44f', '88b27a49-0716-42ba-b638-1d3fff495604', '18be7590-3578-446b-9955-2f4b38b37b8c', '82c38c8e-3d3d-4533-937e-04ddeb1158ab', 'a813004b-c145-47ef-965e-058d82f1a280', '41f71fe6-749b-44a7-9218-33851431f46f', '6e1aef5e-0546-44f3-8c90-839c4ad5c47b', '080d7f6d-b046-4c84-a92e-958f64e0f9a1', '12d36af5-2a05-43da-9d65-a2dae1766ad3', '44366085-b5ff-410e-8c95-237950d40969', '2da67267-30db-4bba-8549-a7867722f35c', 'f06f3572-1ad5-4287-a052-c31ebef1be0c', '997c609f-c28a-44b2-ab04-3c53cc85984a'], parent_id='c97a2498fef74767b40a26cffccc3784', x_coord=10.717696189880371, y_coord=8.903658866882324, level=1, count=13)]"
      ]
     },
     "execution_count": 15,
     "metadata": {},
     "output_type": "execute_result"
    }
   ],
   "source": [
    "await kura.cluster_conversations(conversations)"
   ]
  },
  {
   "cell_type": "code",
   "execution_count": 16,
   "metadata": {},
   "outputs": [
    {
     "name": "stdout",
     "output_type": "stream",
     "text": [
      "Clusters (180 conversations)\n",
      "╠══ Troubleshoot crashing app; escalate to tech support (8 conversations)\n",
      "║   ╚══ Troubleshoot a crashing app and escalate to tech team (8 conversations)\n",
      "╠══ Help me troubleshoot and secure my account (16 conversations)\n",
      "║   ╠══ Troubleshoot locked account and password resets (3 conversations)\n",
      "║   ╠══ Troubleshoot and receive one-time passcodes via alternative methods. (6 conversations)\n",
      "║   ╚══ Secure a potentially compromised account immediately (7 conversations)\n",
      "╠══ Manage Buy Now, Pay Later Payment Options (15 conversations)\n",
      "║   ╠══ Inquire about Payment Schedules and Payment Date Changes (7 conversations)\n",
      "║   ╚══ Manage payment methods for a buy now, pay later service. (8 conversations)\n",
      "╠══ Troubleshoot buy now, pay later order and payment issues (16 conversations)\n",
      "║   ╠══ Troubleshoot issues with BNPL orders and payments (10 conversations)\n",
      "║   ╚══ Troubleshoot buy now pay later checkout failures (6 conversations)\n",
      "╠══ Determine eligibility and raise limits for buy now, pay later services. (14 conversations)\n",
      "║   ╠══ Answer questions about BNPL service eligibility (7 conversations)\n",
      "║   ╚══ Explain how to increase my spending limit. (7 conversations)\n",
      "╠══ Report fraud and freeze the compromised account (18 conversations)\n",
      "║   ╚══ Report fraud, freeze account, and inquire about liability (18 conversations)\n",
      "╠══ Explain buy now pay later services and payment plans (38 conversations)\n",
      "║   ╠══ Explain how a Buy Now, Pay Later service works. (12 conversations)\n",
      "║   ╚══ Answer questions about buy now pay later service fees and payment. (26 conversations)\n",
      "╠══ Resolve issues with payments, refunds, and disputes. (42 conversations)\n",
      "║   ╠══ Inquire about refunds, payments, and late packages (13 conversations)\n",
      "║   ╠══ Inquire about opening a dispute for non-delivery. (8 conversations)\n",
      "║   ╠══ Inquire about and dispute late payment fees (11 conversations)\n",
      "║   ╚══ Explain refund, installment removal, and credit restoration after cancellation (10 conversations)\n",
      "╚══ Inquire about payment assistance and hardship programs (13 conversations)\n",
      "    ╚══ Ask about payment assistance due to inability to pay (13 conversations)\n",
      "\n"
     ]
    }
   ],
   "source": [
    "kura.visualise_clusters()"
   ]
  },
  {
   "cell_type": "markdown",
   "metadata": {},
   "source": [
    "use the kura cli to visualise"
   ]
  },
  {
   "cell_type": "code",
   "execution_count": 19,
   "metadata": {},
   "outputs": [],
   "source": [
    "conversations = [Conversation(**json.loads(row)) for row in open(\"./kura_data/synthetic_conversations.json\")]"
   ]
  },
  {
   "cell_type": "code",
   "execution_count": null,
   "metadata": {},
   "outputs": [
    {
     "data": {
      "text/html": [
       "<pre style=\"white-space:pre;overflow-x:auto;line-height:normal;font-family:Menlo,'DejaVu Sans Mono',consolas,'Courier New',monospace\">Account &amp; Eligibility\n",
       "</pre>\n"
      ],
      "text/plain": [
       "Account & Eligibility\n"
      ]
     },
     "metadata": {},
     "output_type": "display_data"
    },
    {
     "ename": "TypeError",
     "evalue": "tuple indices must be integers or slices, not str",
     "output_type": "error",
     "traceback": [
      "\u001b[0;31m---------------------------------------------------------------------------\u001b[0m",
      "\u001b[0;31mTypeError\u001b[0m                                 Traceback (most recent call last)",
      "Cell \u001b[0;32mIn[28], line 18\u001b[0m\n\u001b[1;32m     16\u001b[0m \u001b[38;5;28;01mif\u001b[39;00m subcategory \u001b[38;5;129;01min\u001b[39;00m subcategory_counter:\n\u001b[1;32m     17\u001b[0m     subcategory_data \u001b[38;5;241m=\u001b[39m [item \u001b[38;5;28;01mfor\u001b[39;00m item \u001b[38;5;129;01min\u001b[39;00m categories[category]\u001b[38;5;241m.\u001b[39mitems() \u001b[38;5;28;01mif\u001b[39;00m item[\u001b[38;5;241m1\u001b[39m][\u001b[38;5;124m\"\u001b[39m\u001b[38;5;124mtitle\u001b[39m\u001b[38;5;124m\"\u001b[39m] \u001b[38;5;241m==\u001b[39m subcategory][\u001b[38;5;241m0\u001b[39m]\n\u001b[0;32m---> 18\u001b[0m     \u001b[38;5;28mprint\u001b[39m(\u001b[38;5;124mf\u001b[39m\u001b[38;5;124m\"\u001b[39m\u001b[38;5;124m  \u001b[39m\u001b[38;5;132;01m{\u001b[39;00msubcategory\u001b[38;5;132;01m}\u001b[39;00m\u001b[38;5;124m: \u001b[39m\u001b[38;5;132;01m{\u001b[39;00msubcategory_counter[subcategory]\u001b[38;5;132;01m}\u001b[39;00m\u001b[38;5;124m (\u001b[39m\u001b[38;5;132;01m{\u001b[39;00msubcategory_data[\u001b[38;5;124m'\u001b[39m\u001b[38;5;124mdescription\u001b[39m\u001b[38;5;124m'\u001b[39m]\u001b[38;5;132;01m}\u001b[39;00m\u001b[38;5;124m)\u001b[39m\u001b[38;5;124m\"\u001b[39m)\n",
      "\u001b[0;31mTypeError\u001b[0m: tuple indices must be integers or slices, not str"
     ]
    }
   ],
   "source": [
    "category_to_subcategory = {}\n",
    "for category in categories:\n",
    "    category_to_subcategory[category] = []\n",
    "    for subcategory in categories[category]:\n",
    "        category_to_subcategory[category].append(categories[category][subcategory][\"title\"])\n",
    "\n",
    "\n",
    "subcategory_counter = Counter()\n",
    "for conversation in conversations:\n",
    "    subcategory_counter[conversation.subcategory] += 1\n",
    "\n",
    "subcategory_counter\n",
    "for category in category_to_subcategory:\n",
    "    print(category)\n",
    "    for subcategory in category_to_subcategory[category]:\n",
    "        if subcategory in subcategory_counter:\n",
    "            subcategory_data = [item for item in categories[category].items() if item[1][\"title\"] == subcategory][0]\n",
    "            print(f\"  {subcategory}: {subcategory_counter[subcategory]} ({subcategory_data[1]['description']})\")"
   ]
  }
 ],
 "metadata": {
  "kernelspec": {
   "display_name": ".venv",
   "language": "python",
   "name": "python3"
  },
  "language_info": {
   "codemirror_mode": {
    "name": "ipython",
    "version": 3
   },
   "file_extension": ".py",
   "mimetype": "text/x-python",
   "name": "python",
   "nbconvert_exporter": "python",
   "pygments_lexer": "ipython3",
   "version": "3.9.6"
  }
 },
 "nbformat": 4,
 "nbformat_minor": 2
}
