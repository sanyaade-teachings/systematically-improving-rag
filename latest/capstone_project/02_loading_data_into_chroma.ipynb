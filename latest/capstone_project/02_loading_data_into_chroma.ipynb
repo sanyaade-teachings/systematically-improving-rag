{
 "cells": [
  {
   "cell_type": "markdown",
   "metadata": {},
   "source": [
    "# Loading Data into Chroma\n",
    "\n",
    "In this notebook, the only goal I have right now is to load all the data into ChromaDB and start trying things.\n",
    "\n",
    "## Environment Variables\n",
    "\n",
    "This notebook uses a `.env` file to securely store sensitive credentials like API keys and database information. The `.env` file contains key-value pairs that are loaded as environment variables, keeping sensitive data out of your code and version control.\n",
    "\n",
    "**Setup:**\n",
    "1. Copy `.env.example` to `.env`\n",
    "2. Fill in your actual credentials in the `.env` file\n",
    "3. The `.env` file should be in your `.gitignore` to prevent accidentally committing credentials\n",
    "\n",
    "**Why use .env files?**\n",
    "- Keeps secrets out of source code\n",
    "- Easy to manage different environments (dev, staging, prod)\n",
    "- Prevents accidentally sharing credentials in notebooks\n",
    "- Makes collaboration easier - everyone uses their own credentials "
   ]
  },
  {
   "cell_type": "code",
   "execution_count": 22,
   "metadata": {},
   "outputs": [],
   "source": [
    "# Configuration Variables\n",
    "# ======================\n",
    "# All configuration parameters consolidated in one place for easy modification\n",
    "\n",
    "# Dataset Configuration\n",
    "DATASET_SIZE = \"train[:50]\"  # Number of samples to load from WildChat-1M\n",
    "RANDOM_SEED = 42  # For reproducibility\n",
    "MIN_MESSAGE_LENGTH = 10  # Minimum character length for messages to be included"
   ]
  },
  {
   "cell_type": "raw",
   "metadata": {
    "vscode": {
     "languageId": "raw"
    }
   },
   "source": [
    "## Setting Up ChromaDB Connection\n",
    "\n",
    "Now that we have our configuration ready, let's connect to our ChromaDB cloud instance. ChromaDB is a vector database that will store our conversation data and allow us to perform semantic searches on it later.\n"
   ]
  },
  {
   "cell_type": "raw",
   "metadata": {
    "vscode": {
     "languageId": "raw"
    }
   },
   "source": [
    "## Required Dependencies\n",
    "\n",
    "Before running the code below, make sure you have the required packages installed:\n",
    "\n",
    "```bash\n",
    "uv add python-dotenv chromadb\n",
    "```\n",
    "\n",
    "The `python-dotenv` package allows us to load environment variables from the `.env` file, and `chromadb` is the ChromaDB client library.\n"
   ]
  },
  {
   "cell_type": "raw",
   "metadata": {
    "vscode": {
     "languageId": "raw"
    }
   },
   "source": [
    "## Loading the WildChat-1M Dataset\n",
    "\n",
    "With our database connection established, we can now load our conversation data. WildChat-1M is a large dataset of real conversations with AI models. For this initial exploration, we're loading a small sample to understand the data structure and test our pipeline.\n"
   ]
  },
  {
   "cell_type": "code",
   "execution_count": 23,
   "metadata": {},
   "outputs": [
    {
     "name": "stderr",
     "output_type": "stream",
     "text": [
      "INFO:chromadb.telemetry.product.posthog:Anonymized telemetry enabled. See                     https://docs.trychroma.com/telemetry for more information.\n",
      "INFO:httpx:HTTP Request: GET https://api.trychroma.com:8000/api/v2/auth/identity \"HTTP/1.1 200 OK\"\n",
      "INFO:chromadb.telemetry.product.posthog:Anonymized telemetry enabled. See                     https://docs.trychroma.com/telemetry for more information.\n",
      "INFO:httpx:HTTP Request: GET https://api.trychroma.com:8000/api/v2/tenants/13e7be1a-7c4c-4526-a2af-ca891a0031e0 \"HTTP/1.1 200 OK\"\n",
      "INFO:httpx:HTTP Request: GET https://api.trychroma.com:8000/api/v2/tenants/13e7be1a-7c4c-4526-a2af-ca891a0031e0/databases/wild-chat-1m \"HTTP/1.1 200 OK\"\n",
      "ERROR:chromadb.telemetry.product.posthog:Failed to send telemetry event ClientStartEvent: capture() takes 1 positional argument but 3 were given\n"
     ]
    },
    {
     "name": "stdout",
     "output_type": "stream",
     "text": [
      "ChromaDB client initialized successfully!\n",
      "Connected to database: wild-chat-1m\n",
      "Tenant: 13e7be1a-7c4c-4526-a2af-ca891a0031e0\n"
     ]
    }
   ],
   "source": [
    "import os\n",
    "from dotenv import load_dotenv\n",
    "import chromadb\n",
    "from datasets import load_dataset\n",
    "\n",
    "# Load environment variables from .env file\n",
    "load_dotenv()\n",
    "\n",
    "# Initialize ChromaDB client using environment variables\n",
    "client = chromadb.CloudClient(\n",
    "    api_key=os.getenv('CHROMA_API_KEY'),\n",
    "    tenant=os.getenv('CHROMA_TENANT'),\n",
    "    database=os.getenv('CHROMA_DATABASE')\n",
    ")\n",
    "\n",
    "print(\"ChromaDB client initialized successfully!\")\n",
    "print(f\"Connected to database: {os.getenv('CHROMA_DATABASE')}\")\n",
    "print(f\"Tenant: {os.getenv('CHROMA_TENANT')}\")\n"
   ]
  },
  {
   "cell_type": "raw",
   "metadata": {
    "vscode": {
     "languageId": "raw"
    }
   },
   "source": [
    "## Exploring and Transforming the Data\n",
    "\n",
    "Let's take a look at our dataset to understand its structure. The WildChat dataset contains rich information about each conversation, including metadata about the users, the AI models used, and safety ratings. We'll create some additional columns to make the data easier to work with.\n"
   ]
  },
  {
   "cell_type": "code",
   "execution_count": 24,
   "metadata": {},
   "outputs": [
    {
     "data": {
      "text/plain": [
       "<generator object WildChatDataLoader.stream_conversations at 0x14e172400>"
      ]
     },
     "execution_count": 24,
     "metadata": {},
     "output_type": "execute_result"
    }
   ],
   "source": [
    "# Import our custom data loader from local utils directory\n",
    "from utils.dataloader import WildChatDataLoader\n",
    "\n",
    "import pandas as pd\n",
    "\n",
    "def load_data(limit=5):\n",
    "    \"\"\"Load WildChat data using our custom data loader\"\"\"\n",
    "    loader = WildChatDataLoader()\n",
    "    # Convert to DataFrame with selected columns\n",
    "    df = loader.stream_conversations(limit=limit)\n",
    "    return df\n",
    "\n",
    "load_data(10)"
   ]
  },
  {
   "cell_type": "code",
   "execution_count": 29,
   "metadata": {},
   "outputs": [
    {
     "name": "stderr",
     "output_type": "stream",
     "text": [
      "INFO:httpx:HTTP Request: POST https://api.trychroma.com:8000/api/v2/tenants/13e7be1a-7c4c-4526-a2af-ca891a0031e0/databases/wild-chat-1m/collections \"HTTP/1.1 200 OK\"\n",
      "INFO:utils.dataloader:Loading WildChat dataset: train[:10000]\n"
     ]
    },
    {
     "name": "stdout",
     "output_type": "stream",
     "text": [
      "Testing streaming write with 50 English conversations...\n",
      "Starting streaming write to collection: wildchat_10k\n",
      "Filters: language=English, min_length=30, limit=10000\n"
     ]
    },
    {
     "name": "stderr",
     "output_type": "stream",
     "text": [
      "INFO:utils.dataloader:Loaded 10000 conversations\n",
      "INFO:httpx:HTTP Request: POST https://api.trychroma.com:8000/api/v2/tenants/13e7be1a-7c4c-4526-a2af-ca891a0031e0/databases/wild-chat-1m/collections/905f3eaf-2220-41ab-95d7-d0709d6e4fe8/add \"HTTP/1.1 201 Created\"\n"
     ]
    },
    {
     "name": "stdout",
     "output_type": "stream",
     "text": [
      "  Wrote batch: 50 documents so far...\n"
     ]
    },
    {
     "name": "stderr",
     "output_type": "stream",
     "text": [
      "INFO:httpx:HTTP Request: POST https://api.trychroma.com:8000/api/v2/tenants/13e7be1a-7c4c-4526-a2af-ca891a0031e0/databases/wild-chat-1m/collections/905f3eaf-2220-41ab-95d7-d0709d6e4fe8/add \"HTTP/1.1 201 Created\"\n"
     ]
    },
    {
     "name": "stdout",
     "output_type": "stream",
     "text": [
      "  Wrote batch: 100 documents so far...\n"
     ]
    },
    {
     "name": "stderr",
     "output_type": "stream",
     "text": [
      "INFO:httpx:HTTP Request: POST https://api.trychroma.com:8000/api/v2/tenants/13e7be1a-7c4c-4526-a2af-ca891a0031e0/databases/wild-chat-1m/collections/905f3eaf-2220-41ab-95d7-d0709d6e4fe8/add \"HTTP/1.1 201 Created\"\n"
     ]
    },
    {
     "name": "stdout",
     "output_type": "stream",
     "text": [
      "  Wrote batch: 150 documents so far...\n"
     ]
    },
    {
     "name": "stderr",
     "output_type": "stream",
     "text": [
      "INFO:httpx:HTTP Request: POST https://api.trychroma.com:8000/api/v2/tenants/13e7be1a-7c4c-4526-a2af-ca891a0031e0/databases/wild-chat-1m/collections/905f3eaf-2220-41ab-95d7-d0709d6e4fe8/add \"HTTP/1.1 201 Created\"\n"
     ]
    },
    {
     "name": "stdout",
     "output_type": "stream",
     "text": [
      "  Wrote batch: 200 documents so far...\n"
     ]
    },
    {
     "name": "stderr",
     "output_type": "stream",
     "text": [
      "INFO:httpx:HTTP Request: POST https://api.trychroma.com:8000/api/v2/tenants/13e7be1a-7c4c-4526-a2af-ca891a0031e0/databases/wild-chat-1m/collections/905f3eaf-2220-41ab-95d7-d0709d6e4fe8/add \"HTTP/1.1 201 Created\"\n"
     ]
    },
    {
     "name": "stdout",
     "output_type": "stream",
     "text": [
      "  Wrote batch: 250 documents so far...\n"
     ]
    },
    {
     "name": "stderr",
     "output_type": "stream",
     "text": [
      "INFO:httpx:HTTP Request: POST https://api.trychroma.com:8000/api/v2/tenants/13e7be1a-7c4c-4526-a2af-ca891a0031e0/databases/wild-chat-1m/collections/905f3eaf-2220-41ab-95d7-d0709d6e4fe8/add \"HTTP/1.1 201 Created\"\n"
     ]
    },
    {
     "name": "stdout",
     "output_type": "stream",
     "text": [
      "  Wrote batch: 300 documents so far...\n"
     ]
    },
    {
     "name": "stderr",
     "output_type": "stream",
     "text": [
      "INFO:httpx:HTTP Request: POST https://api.trychroma.com:8000/api/v2/tenants/13e7be1a-7c4c-4526-a2af-ca891a0031e0/databases/wild-chat-1m/collections/905f3eaf-2220-41ab-95d7-d0709d6e4fe8/add \"HTTP/1.1 201 Created\"\n"
     ]
    },
    {
     "name": "stdout",
     "output_type": "stream",
     "text": [
      "  Wrote batch: 350 documents so far...\n"
     ]
    },
    {
     "name": "stderr",
     "output_type": "stream",
     "text": [
      "INFO:httpx:HTTP Request: POST https://api.trychroma.com:8000/api/v2/tenants/13e7be1a-7c4c-4526-a2af-ca891a0031e0/databases/wild-chat-1m/collections/905f3eaf-2220-41ab-95d7-d0709d6e4fe8/add \"HTTP/1.1 201 Created\"\n"
     ]
    },
    {
     "name": "stdout",
     "output_type": "stream",
     "text": [
      "  Wrote batch: 400 documents so far...\n"
     ]
    },
    {
     "name": "stderr",
     "output_type": "stream",
     "text": [
      "INFO:httpx:HTTP Request: POST https://api.trychroma.com:8000/api/v2/tenants/13e7be1a-7c4c-4526-a2af-ca891a0031e0/databases/wild-chat-1m/collections/905f3eaf-2220-41ab-95d7-d0709d6e4fe8/add \"HTTP/1.1 201 Created\"\n"
     ]
    },
    {
     "name": "stdout",
     "output_type": "stream",
     "text": [
      "  Wrote batch: 450 documents so far...\n"
     ]
    },
    {
     "name": "stderr",
     "output_type": "stream",
     "text": [
      "INFO:httpx:HTTP Request: POST https://api.trychroma.com:8000/api/v2/tenants/13e7be1a-7c4c-4526-a2af-ca891a0031e0/databases/wild-chat-1m/collections/905f3eaf-2220-41ab-95d7-d0709d6e4fe8/add \"HTTP/1.1 201 Created\"\n"
     ]
    },
    {
     "name": "stdout",
     "output_type": "stream",
     "text": [
      "  Wrote batch: 500 documents so far...\n"
     ]
    },
    {
     "name": "stderr",
     "output_type": "stream",
     "text": [
      "INFO:httpx:HTTP Request: POST https://api.trychroma.com:8000/api/v2/tenants/13e7be1a-7c4c-4526-a2af-ca891a0031e0/databases/wild-chat-1m/collections/905f3eaf-2220-41ab-95d7-d0709d6e4fe8/add \"HTTP/1.1 201 Created\"\n"
     ]
    },
    {
     "name": "stdout",
     "output_type": "stream",
     "text": [
      "  Wrote batch: 550 documents so far...\n"
     ]
    },
    {
     "name": "stderr",
     "output_type": "stream",
     "text": [
      "INFO:httpx:HTTP Request: POST https://api.trychroma.com:8000/api/v2/tenants/13e7be1a-7c4c-4526-a2af-ca891a0031e0/databases/wild-chat-1m/collections/905f3eaf-2220-41ab-95d7-d0709d6e4fe8/add \"HTTP/1.1 201 Created\"\n"
     ]
    },
    {
     "name": "stdout",
     "output_type": "stream",
     "text": [
      "  Wrote batch: 600 documents so far...\n"
     ]
    },
    {
     "name": "stderr",
     "output_type": "stream",
     "text": [
      "INFO:httpx:HTTP Request: POST https://api.trychroma.com:8000/api/v2/tenants/13e7be1a-7c4c-4526-a2af-ca891a0031e0/databases/wild-chat-1m/collections/905f3eaf-2220-41ab-95d7-d0709d6e4fe8/add \"HTTP/1.1 201 Created\"\n"
     ]
    },
    {
     "name": "stdout",
     "output_type": "stream",
     "text": [
      "  Wrote batch: 650 documents so far...\n"
     ]
    },
    {
     "name": "stderr",
     "output_type": "stream",
     "text": [
      "INFO:httpx:HTTP Request: POST https://api.trychroma.com:8000/api/v2/tenants/13e7be1a-7c4c-4526-a2af-ca891a0031e0/databases/wild-chat-1m/collections/905f3eaf-2220-41ab-95d7-d0709d6e4fe8/add \"HTTP/1.1 201 Created\"\n"
     ]
    },
    {
     "name": "stdout",
     "output_type": "stream",
     "text": [
      "  Wrote batch: 700 documents so far...\n"
     ]
    },
    {
     "name": "stderr",
     "output_type": "stream",
     "text": [
      "INFO:httpx:HTTP Request: POST https://api.trychroma.com:8000/api/v2/tenants/13e7be1a-7c4c-4526-a2af-ca891a0031e0/databases/wild-chat-1m/collections/905f3eaf-2220-41ab-95d7-d0709d6e4fe8/add \"HTTP/1.1 201 Created\"\n"
     ]
    },
    {
     "name": "stdout",
     "output_type": "stream",
     "text": [
      "  Wrote batch: 750 documents so far...\n"
     ]
    },
    {
     "name": "stderr",
     "output_type": "stream",
     "text": [
      "INFO:httpx:HTTP Request: POST https://api.trychroma.com:8000/api/v2/tenants/13e7be1a-7c4c-4526-a2af-ca891a0031e0/databases/wild-chat-1m/collections/905f3eaf-2220-41ab-95d7-d0709d6e4fe8/add \"HTTP/1.1 201 Created\"\n"
     ]
    },
    {
     "name": "stdout",
     "output_type": "stream",
     "text": [
      "  Wrote batch: 800 documents so far...\n"
     ]
    },
    {
     "name": "stderr",
     "output_type": "stream",
     "text": [
      "INFO:httpx:HTTP Request: POST https://api.trychroma.com:8000/api/v2/tenants/13e7be1a-7c4c-4526-a2af-ca891a0031e0/databases/wild-chat-1m/collections/905f3eaf-2220-41ab-95d7-d0709d6e4fe8/add \"HTTP/1.1 201 Created\"\n"
     ]
    },
    {
     "name": "stdout",
     "output_type": "stream",
     "text": [
      "  Wrote batch: 850 documents so far...\n"
     ]
    },
    {
     "name": "stderr",
     "output_type": "stream",
     "text": [
      "INFO:httpx:HTTP Request: POST https://api.trychroma.com:8000/api/v2/tenants/13e7be1a-7c4c-4526-a2af-ca891a0031e0/databases/wild-chat-1m/collections/905f3eaf-2220-41ab-95d7-d0709d6e4fe8/add \"HTTP/1.1 201 Created\"\n"
     ]
    },
    {
     "name": "stdout",
     "output_type": "stream",
     "text": [
      "  Wrote batch: 900 documents so far...\n"
     ]
    },
    {
     "name": "stderr",
     "output_type": "stream",
     "text": [
      "INFO:httpx:HTTP Request: POST https://api.trychroma.com:8000/api/v2/tenants/13e7be1a-7c4c-4526-a2af-ca891a0031e0/databases/wild-chat-1m/collections/905f3eaf-2220-41ab-95d7-d0709d6e4fe8/add \"HTTP/1.1 201 Created\"\n"
     ]
    },
    {
     "name": "stdout",
     "output_type": "stream",
     "text": [
      "  Wrote batch: 950 documents so far...\n"
     ]
    },
    {
     "name": "stderr",
     "output_type": "stream",
     "text": [
      "INFO:httpx:HTTP Request: POST https://api.trychroma.com:8000/api/v2/tenants/13e7be1a-7c4c-4526-a2af-ca891a0031e0/databases/wild-chat-1m/collections/905f3eaf-2220-41ab-95d7-d0709d6e4fe8/add \"HTTP/1.1 201 Created\"\n"
     ]
    },
    {
     "name": "stdout",
     "output_type": "stream",
     "text": [
      "  Wrote batch: 1000 documents so far...\n"
     ]
    },
    {
     "name": "stderr",
     "output_type": "stream",
     "text": [
      "INFO:httpx:HTTP Request: POST https://api.trychroma.com:8000/api/v2/tenants/13e7be1a-7c4c-4526-a2af-ca891a0031e0/databases/wild-chat-1m/collections/905f3eaf-2220-41ab-95d7-d0709d6e4fe8/add \"HTTP/1.1 201 Created\"\n"
     ]
    },
    {
     "name": "stdout",
     "output_type": "stream",
     "text": [
      "  Wrote batch: 1050 documents so far...\n"
     ]
    },
    {
     "name": "stderr",
     "output_type": "stream",
     "text": [
      "INFO:httpx:HTTP Request: POST https://api.trychroma.com:8000/api/v2/tenants/13e7be1a-7c4c-4526-a2af-ca891a0031e0/databases/wild-chat-1m/collections/905f3eaf-2220-41ab-95d7-d0709d6e4fe8/add \"HTTP/1.1 201 Created\"\n"
     ]
    },
    {
     "name": "stdout",
     "output_type": "stream",
     "text": [
      "  Wrote batch: 1100 documents so far...\n"
     ]
    },
    {
     "name": "stderr",
     "output_type": "stream",
     "text": [
      "INFO:httpx:HTTP Request: POST https://api.trychroma.com:8000/api/v2/tenants/13e7be1a-7c4c-4526-a2af-ca891a0031e0/databases/wild-chat-1m/collections/905f3eaf-2220-41ab-95d7-d0709d6e4fe8/add \"HTTP/1.1 201 Created\"\n"
     ]
    },
    {
     "name": "stdout",
     "output_type": "stream",
     "text": [
      "  Wrote batch: 1150 documents so far...\n"
     ]
    },
    {
     "name": "stderr",
     "output_type": "stream",
     "text": [
      "INFO:httpx:HTTP Request: POST https://api.trychroma.com:8000/api/v2/tenants/13e7be1a-7c4c-4526-a2af-ca891a0031e0/databases/wild-chat-1m/collections/905f3eaf-2220-41ab-95d7-d0709d6e4fe8/add \"HTTP/1.1 201 Created\"\n"
     ]
    },
    {
     "name": "stdout",
     "output_type": "stream",
     "text": [
      "  Wrote batch: 1200 documents so far...\n",
      "❌ Error in streaming write: Expected IDs to be unique, found duplicates of: f5f01c95c79d12c5c72f87f63577b6dc in add.\n"
     ]
    }
   ],
   "source": [
    "def write_streaming_to_chroma(\n",
    "    collection_name=\"wildchat_streaming\", \n",
    "    limit=100, \n",
    "    batch_size=50,\n",
    "    filter_language=\"English\",\n",
    "    min_message_length=20\n",
    "):\n",
    "    \"\"\"\n",
    "    Write conversations to ChromaDB using streaming data loader\n",
    "    \n",
    "    This approach can handle the full 1M dataset efficiently by:\n",
    "    1. Loading data in streaming fashion (no memory issues)\n",
    "    2. Processing in batches\n",
    "    \"\"\"\n",
    "    \n",
    "    print(f\"Starting streaming write to collection: {collection_name}\")\n",
    "    print(f\"Filters: language={filter_language}, min_length={min_message_length}, limit={limit}\")\n",
    "    \n",
    "    try:\n",
    "        # Create/get collection\n",
    "        collection = client.get_or_create_collection(\n",
    "            name=collection_name,\n",
    "            metadata={\"description\": \"Streaming WildChat data\"}\n",
    "        )\n",
    "        \n",
    "        # Batch processing\n",
    "        documents = []\n",
    "        metadatas = []\n",
    "        ids = []\n",
    "        total_processed = 0\n",
    "        \n",
    "        for conversation in load_data(limit=limit):\n",
    "            # Prepare document\n",
    "            doc_id = f\"{conversation['conversation_hash']}\"\n",
    "            \n",
    "            metadata = {\n",
    "                \"hash\": conversation['conversation_hash'],\n",
    "                \"timestamp\": str(conversation['timestamp']),\n",
    "                \"lang\": conversation['language'],\n",
    "                \"model\": conversation['model'],\n",
    "                \"length\": conversation['conversation_length'],\n",
    "                \"type\": \"user_query\"\n",
    "            }\n",
    "            \n",
    "            documents.append(conversation['first_message'][:1000])\n",
    "            metadatas.append(metadata)\n",
    "            ids.append(doc_id)\n",
    "            \n",
    "            # Write batch when full\n",
    "            if len(documents) >= batch_size:\n",
    "                collection.add(\n",
    "                    documents=documents,\n",
    "                    metadatas=metadatas,\n",
    "                    ids=ids\n",
    "                )\n",
    "                total_processed += len(documents)\n",
    "                print(f\"  Wrote batch: {total_processed} documents so far...\")\n",
    "                \n",
    "                # Reset batch\n",
    "                documents = []\n",
    "                metadatas = []\n",
    "                ids = []\n",
    "        \n",
    "        # Write final batch\n",
    "        if documents:\n",
    "            collection.add(\n",
    "                documents=documents,\n",
    "                metadatas=metadatas,\n",
    "                ids=ids\n",
    "            )\n",
    "            total_processed += len(documents)\n",
    "        \n",
    "        print(f\"✅ Successfully wrote {total_processed} conversations to {collection_name}\")\n",
    "        print(f\"Collection now contains {collection.count()} total documents\")\n",
    "        \n",
    "        return collection\n",
    "        \n",
    "    except Exception as e:\n",
    "        print(f\"❌ Error in streaming write: {e}\")\n",
    "        return None\n",
    "\n",
    "# Test with a moderate dataset\n",
    "print(\"Testing streaming write with 50 English conversations...\")\n",
    "streaming_collection = write_streaming_to_chroma(\n",
    "    collection_name=\"wildchat_10k\",\n",
    "    limit=10000,  # Will get first 50 English conversations from first 100\n",
    "    filter_language=\"English\",\n",
    "    min_message_length=30\n",
    ")"
   ]
  },
  {
   "cell_type": "raw",
   "metadata": {
    "vscode": {
     "languageId": "raw"
    }
   },
   "source": [
    "\n"
   ]
  },
  {
   "cell_type": "raw",
   "metadata": {},
   "source": []
  }
 ],
 "metadata": {
  "kernelspec": {
   "display_name": ".venv",
   "language": "python",
   "name": "python3"
  },
  "language_info": {
   "codemirror_mode": {
    "name": "ipython",
    "version": 3
   },
   "file_extension": ".py",
   "mimetype": "text/x-python",
   "name": "python",
   "nbconvert_exporter": "python",
   "pygments_lexer": "ipython3",
   "version": "3.11.12"
  }
 },
 "nbformat": 4,
 "nbformat_minor": 2
}
