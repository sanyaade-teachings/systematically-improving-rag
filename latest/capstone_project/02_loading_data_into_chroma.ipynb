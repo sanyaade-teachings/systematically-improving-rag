{
 "cells": [
  {
   "cell_type": "markdown",
   "metadata": {},
   "source": [
    "# Loading Data into Chroma\n",
    "\n",
    "In this notebook, the only goal I have right now is to load all the data into ChromaDB and start trying things.\n",
    "\n",
    "## Environment Variables\n",
    "\n",
    "This notebook uses a `.env` file to securely store sensitive credentials like API keys and database information. The `.env` file contains key-value pairs that are loaded as environment variables, keeping sensitive data out of your code and version control.\n",
    "\n",
    "**Setup:**\n",
    "1. Copy `.env.example` to `.env`\n",
    "2. Fill in your actual credentials in the `.env` file\n",
    "3. The `.env` file should be in your `.gitignore` to prevent accidentally committing credentials\n",
    "\n",
    "**Why use .env files?**\n",
    "- Keeps secrets out of source code\n",
    "- Easy to manage different environments (dev, staging, prod)\n",
    "- Prevents accidentally sharing credentials in notebooks\n",
    "- Makes collaboration easier - everyone uses their own credentials "
   ]
  },
  {
   "cell_type": "raw",
   "metadata": {
    "vscode": {
     "languageId": "raw"
    }
   },
   "source": [
    "## Required Dependencies\n",
    "\n",
    "Before running the code below, make sure you have the required packages installed:\n",
    "\n",
    "```bash\n",
    "uv add python-dotenv chromadb\n",
    "```\n",
    "\n",
    "The `python-dotenv` package allows us to load environment variables from the `.env` file, and `chromadb` is the ChromaDB client library.\n"
   ]
  },
  {
   "cell_type": "code",
   "execution_count": 1,
   "metadata": {},
   "outputs": [
    {
     "name": "stderr",
     "output_type": "stream",
     "text": [
      "Failed to send telemetry event ClientStartEvent: capture() takes 1 positional argument but 3 were given\n"
     ]
    },
    {
     "name": "stdout",
     "output_type": "stream",
     "text": [
      "ChromaDB client initialized successfully!\n",
      "Connected to database: wild-chat-1m\n",
      "Tenant: 13e7be1a-7c4c-4526-a2af-ca891a0031e0\n"
     ]
    }
   ],
   "source": [
    "import os\n",
    "from dotenv import load_dotenv\n",
    "import chromadb\n",
    "\n",
    "# Load environment variables from .env file\n",
    "load_dotenv()\n",
    "\n",
    "# Initialize ChromaDB client using environment variables\n",
    "client = chromadb.CloudClient(\n",
    "    api_key=os.getenv('CHROMA_API_KEY'),\n",
    "    tenant=os.getenv('CHROMA_TENANT'),\n",
    "    database=os.getenv('CHROMA_DATABASE')\n",
    ")\n",
    "\n",
    "print(\"ChromaDB client initialized successfully!\")\n",
    "print(f\"Connected to database: {os.getenv('CHROMA_DATABASE')}\")\n",
    "print(f\"Tenant: {os.getenv('CHROMA_TENANT')}\")\n"
   ]
  },
  {
   "cell_type": "code",
   "execution_count": null,
   "metadata": {},
   "outputs": [],
   "source": []
  }
 ],
 "metadata": {
  "kernelspec": {
   "display_name": ".venv",
   "language": "python",
   "name": "python3"
  },
  "language_info": {
   "codemirror_mode": {
    "name": "ipython",
    "version": 3
   },
   "file_extension": ".py",
   "mimetype": "text/x-python",
   "name": "python",
   "nbconvert_exporter": "python",
   "pygments_lexer": "ipython3",
   "version": "3.11.12"
  }
 },
 "nbformat": 4,
 "nbformat_minor": 2
}
